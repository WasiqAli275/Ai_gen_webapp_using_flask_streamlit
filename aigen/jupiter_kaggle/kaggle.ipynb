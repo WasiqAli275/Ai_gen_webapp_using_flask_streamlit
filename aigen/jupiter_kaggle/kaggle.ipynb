{
 "cells": [
  {
   "cell_type": "code",
   "execution_count": 1,
   "id": "28f9ac45",
   "metadata": {},
   "outputs": [
    {
     "data": {
      "text/html": [
       "<img src onerror=\"\n",
       "    var cell = this.closest('.cell, .jp-CodeCell');\n",
       "    var editor = cell.querySelector('.input_area, .jp-Editor');\n",
       "    editor.style.background = 'lightgreen';\n",
       "    this.parentNode.removeChild(this)\n",
       "    \" style=\"display:none\">"
      ],
      "text/plain": [
       "<IPython.core.display.HTML object>"
      ]
     },
     "metadata": {},
     "output_type": "display_data"
    }
   ],
   "source": [
    "from IPython.display import display, HTML\n",
    "\n",
    "def set_background(color: str):\n",
    "    script = f\"\"\"\n",
    "    var cell = this.closest('.cell, .jp-CodeCell');\n",
    "    var editor = cell.querySelector('.input_area, .jp-Editor');\n",
    "    editor.style.background = '{color}';\n",
    "    this.parentNode.removeChild(this)\n",
    "    \"\"\"\n",
    "    display(HTML('<img src onerror=\"%s\" style=\"display:none\">' % script))\n",
    "\n",
    "# Example usage:\n",
    "set_background('lightgreen')\n"
   ]
  },
  {
   "cell_type": "markdown",
   "id": "2276b255",
   "metadata": {},
   "source": [
    "from IPython.display import display, HTML\n",
    "\n",
    "def set_background(color: str):\n",
    "    script = f\"\"\"\n",
    "    var cell = this.closest('.cell, .jp-CodeCell');\n",
    "    var editor = cell.querySelector('.input_area, .jp-Editor');\n",
    "    editor.style.background = '{color}';\n",
    "    this.parentNode.removeChild(this)\n",
    "    \"\"\"\n",
    "    display(HTML('<img src onerror=\"%s\" style=\"display:none\">' % script))\n",
    "\n",
    "# Example usage:\n",
    "set_background('lightgreen')\n"
   ]
  },
  {
   "cell_type": "code",
   "execution_count": 2,
   "id": "8ae8a931",
   "metadata": {},
   "outputs": [
    {
     "data": {
      "text/html": [
       "<img src onerror=\"var cell=this.closest('.cell, .jp-CodeCell');var editor=cell.querySelector('input_area,jp-Editor');editor.style.background='lightgreen';this.parentNode.removeChild(this)\" style=\"display:none\">"
      ],
      "text/plain": [
       "<IPython.core.display.HTML object>"
      ]
     },
     "metadata": {},
     "output_type": "display_data"
    },
    {
     "ename": "NameError",
     "evalue": "name 'models' is not defined",
     "output_type": "error",
     "traceback": [
      "\u001b[1;31m---------------------------------------------------------------------------\u001b[0m",
      "\u001b[1;31mNameError\u001b[0m                                 Traceback (most recent call last)",
      "Cell \u001b[1;32mIn[2], line 18\u001b[0m\n\u001b[0;32m     16\u001b[0m learning_rate \u001b[38;5;241m=\u001b[39m \u001b[38;5;241m0.001\u001b[39m\n\u001b[0;32m     17\u001b[0m num_epochs \u001b[38;5;241m=\u001b[39m \u001b[38;5;241m5\u001b[39m\n\u001b[1;32m---> 18\u001b[0m model \u001b[38;5;241m=\u001b[39m \u001b[43mmodels\u001b[49m\u001b[38;5;241m.\u001b[39mresnet18(pretrained\u001b[38;5;241m=\u001b[39m\u001b[38;5;28;01mTrue\u001b[39;00m)\n\u001b[0;32m     19\u001b[0m model\u001b[38;5;241m.\u001b[39mfc \u001b[38;5;241m=\u001b[39m nn\u001b[38;5;241m.\u001b[39mLinear(model\u001b[38;5;241m.\u001b[39mfc\u001b[38;5;241m.\u001b[39min_features, \u001b[38;5;241m2\u001b[39m)\n",
      "\u001b[1;31mNameError\u001b[0m: name 'models' is not defined"
     ]
    }
   ],
   "source": [
    "### This is a parameter-setup cell, green highlight ###\n",
    "from IPython.display import display, HTML\n",
    "\n",
    "def set_background(color):    \n",
    "    display(HTML(f'<img src onerror=\"'\n",
    "                 f\"var cell=this.closest('.cell, .jp-CodeCell');\"\n",
    "                 f\"var editor=cell.querySelector('input_area,jp-Editor');\"\n",
    "                 f\"editor.style.background='{color}';\"\n",
    "                 f\"this.parentNode.removeChild(this)\"\n",
    "                 f'\" style=\"display:none\">'))\n",
    "\n",
    "# Set this cell green\n",
    "set_background('lightgreen')\n",
    "\n",
    "batch_size = 16\n",
    "learning_rate = 0.001\n",
    "num_epochs = 5\n",
    "model = models.resnet18(pretrained=True)\n",
    "model.fc = nn.Linear(model.fc.in_features, 2)\n"
   ]
  },
  {
   "cell_type": "code",
   "execution_count": 3,
   "id": "b6384ee4",
   "metadata": {},
   "outputs": [
    {
     "ename": "NameError",
     "evalue": "name 'model' is not defined",
     "output_type": "error",
     "traceback": [
      "\u001b[1;31m---------------------------------------------------------------------------\u001b[0m",
      "\u001b[1;31mNameError\u001b[0m                                 Traceback (most recent call last)",
      "Cell \u001b[1;32mIn[3], line 3\u001b[0m\n\u001b[0;32m      1\u001b[0m \u001b[38;5;66;03m# Training loop example\u001b[39;00m\n\u001b[0;32m      2\u001b[0m \u001b[38;5;28;01mfor\u001b[39;00m epoch \u001b[38;5;129;01min\u001b[39;00m \u001b[38;5;28mrange\u001b[39m(num_epochs):\n\u001b[1;32m----> 3\u001b[0m     \u001b[43mmodel\u001b[49m\u001b[38;5;241m.\u001b[39mtrain()\n\u001b[0;32m      4\u001b[0m     total_loss \u001b[38;5;241m=\u001b[39m \u001b[38;5;241m0\u001b[39m\n\u001b[0;32m      5\u001b[0m     \u001b[38;5;28;01mfor\u001b[39;00m xb, yb \u001b[38;5;129;01min\u001b[39;00m train_loader:\n",
      "\u001b[1;31mNameError\u001b[0m: name 'model' is not defined"
     ]
    }
   ],
   "source": [
    "# Training loop example\n",
    "for epoch in range(num_epochs):\n",
    "    model.train()\n",
    "    total_loss = 0\n",
    "    for xb, yb in train_loader:\n",
    "        pred = model(xb)\n",
    "        loss = criterion(pred, yb)\n",
    "        optimizer.zero_grad()\n",
    "        loss.backward()\n",
    "        optimizer.step()\n",
    "        total_loss += loss.item()\n",
    "    print(f\"Epoch {epoch+1} Loss:\", total_loss / len(train_loader))\n"
   ]
  }
 ],
 "metadata": {
  "kernelspec": {
   "display_name": "tf_env",
   "language": "python",
   "name": "python3"
  },
  "language_info": {
   "codemirror_mode": {
    "name": "ipython",
    "version": 3
   },
   "file_extension": ".py",
   "mimetype": "text/x-python",
   "name": "python",
   "nbconvert_exporter": "python",
   "pygments_lexer": "ipython3",
   "version": "3.9.20"
  }
 },
 "nbformat": 4,
 "nbformat_minor": 5
}
