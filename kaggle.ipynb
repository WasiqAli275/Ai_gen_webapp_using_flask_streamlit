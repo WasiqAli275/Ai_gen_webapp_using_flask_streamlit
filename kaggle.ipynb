{
 "cells": [
  {
   "cell_type": "markdown",
   "id": "721b19d0",
   "metadata": {},
   "source": [
    "# Kaggle practice notebook "
   ]
  }
 ],
 "metadata": {
  "language_info": {
   "name": "python"
  }
 },
 "nbformat": 4,
 "nbformat_minor": 5
}
