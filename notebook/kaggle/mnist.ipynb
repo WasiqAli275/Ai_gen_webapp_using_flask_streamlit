{
 "cells": [
  {
   "cell_type": "markdown",
   "id": "cf3242b3",
   "metadata": {},
   "source": [
    "# MNIST Handwritten Digit Recognition\n",
    "\n",
    "This notebook analyzes the MNIST dataset of handwritten digits using machine learning techniques."
   ]
  },
  {
   "cell_type": "markdown",
   "id": "85e9567d",
   "metadata": {},
   "source": [
    "## Import the libraries\n"
   ]
  },
  {
   "cell_type": "code",
   "execution_count": null,
   "id": "7ac759d4",
   "metadata": {},
   "outputs": [],
   "source": [
    "# %% [markdown]\n",
    "\n",
    "# ## 1. Importing Libraries\n",
    "\n",
    "# %%\n",
    "import numpy as np\n",
    "import pandas as pd\n",
    "import matplotlib.pyplot as plt\n",
    "import seaborn as sns\n",
    "from sklearn.model_selection import train_test_split\n",
    "from sklearn.preprocessing import StandardScaler\n",
    "from sklearn.decomposition import PCA\n",
    "from sklearn.ensemble import RandomForestClassifier\n",
    "from sklearn.metrics import accuracy_score, confusion_matrix, classification_report\n",
    "import tensorflow as tf\n",
    "from tensorflow import keras\n",
    "from tensorflow.keras import layers\n",
    "\n",
    "# Set style for plots\n",
    "plt.style.use('seaborn-v0_8-whitegrid')\n",
    "sns.set_palette(\"Set2\")"
   ]
  },
  {
   "cell_type": "markdown",
   "id": "8f8fa48b",
   "metadata": {},
   "source": [
    "## Loading the Dataset"
   ]
  },
  {
   "cell_type": "code",
   "execution_count": null,
   "id": "6e82d407",
   "metadata": {},
   "outputs": [],
   "source": [
    "# Load the dataset\n",
    "df = pd.read_csv('mnist.csv')"
   ]
  },
  {
   "cell_type": "markdown",
   "id": "c72a8cbe",
   "metadata": {},
   "source": [
    "## Display Basic Information"
   ]
  },
  {
   "cell_type": "code",
   "execution_count": null,
   "id": "c2a18a67",
   "metadata": {},
   "outputs": [],
   "source": [
    "# Display basic information\n",
    "print(\"Dataset shape:\", df.shape)\n",
    "print(\"\\nFirst few rows:\")\n",
    "df.head()"
   ]
  },
  {
   "cell_type": "markdown",
   "id": "14f6a7ec",
   "metadata": {},
   "source": [
    "## Check for Missing Values"
   ]
  },
  {
   "cell_type": "code",
   "execution_count": null,
   "id": "8a9ab162",
   "metadata": {},
   "outputs": [],
   "source": [
    "# Check for missing values\n",
    "print(\"Missing values in each column:\")\n",
    "print(df.isnull().sum().sum())  # Should be 0 for this dataset"
   ]
  },
  {
   "cell_type": "markdown",
   "id": "cac0fc23",
   "metadata": {},
   "source": [
    "## Distribution of Labels"
   ]
  },
  {
   "cell_type": "code",
   "execution_count": null,
   "id": "08d65e24",
   "metadata": {},
   "outputs": [],
   "source": [
    "# Check the distribution of labels\n",
    "plt.figure(figsize=(10, 5))\n",
    "sns.countplot(x='label', data=df)\n",
    "plt.title('Distribution of Digits in the Dataset')\n",
    "plt.xlabel('Digit')\n",
    "plt.ylabel('Count')\n",
    "plt.show()"
   ]
  },
  {
   "cell_type": "markdown",
   "id": "50cd1247",
   "metadata": {},
   "source": [
    "## Separate Features and Labels"
   ]
  },
  {
   "cell_type": "code",
   "execution_count": null,
   "id": "c4a48cef",
   "metadata": {},
   "outputs": [],
   "source": [
    "# Separate features and labels\n",
    "X = df.drop('label', axis=1)\n",
    "y = df['label']"
   ]
  },
  {
   "cell_type": "markdown",
   "id": "6b0c9993",
   "metadata": {},
   "source": [
    "## Normalize Pixel Values"
   ]
  },
  {
   "cell_type": "code",
   "execution_count": null,
   "id": "4ba8f4df",
   "metadata": {},
   "outputs": [],
   "source": [
    "# Normalize the pixel values (0-255 -> 0-1)\n",
    "X = X / 255.0"
   ]
  },
  {
   "cell_type": "markdown",
   "id": "4fca1e84",
   "metadata": {},
   "source": [
    "## Split Data into Training and Testing Sets"
   ]
  },
  {
   "cell_type": "code",
   "execution_count": null,
   "id": "278c2e65",
   "metadata": {},
   "outputs": [],
   "source": [
    "# Split the data into training and testing sets\n",
    "X_train, X_test, y_train, y_test = train_test_split(X, y, test_size=0.2, random_state=42, stratify=y)\n",
    "\n",
    "print(f\"Training set shape: {X_train.shape}\")\n",
    "print(f\"Testing set shape: {X_test.shape}\")"
   ]
  },
  {
   "cell_type": "markdown",
   "id": "12bab547",
   "metadata": {},
   "source": [
    "## Function to Display Digits"
   ]
  },
  {
   "cell_type": "code",
   "execution_count": null,
   "id": "11728b5a",
   "metadata": {},
   "outputs": [],
   "source": [
    "# Function to display digits\n",
    "def plot_digits(images, labels, n_rows=2, n_cols=5):\n",
    "    plt.figure(figsize=(12, 6))\n",
    "    for i in range(n_rows * n_cols):\n",
    "        plt.subplot(n_rows, n_cols, i+1)\n",
    "        plt.imshow(images[i].reshape(28, 28), cmap='gray')\n",
    "        plt.title(f'Label: {labels.iloc[i]}')\n",
    "        plt.axis('off')\n",
    "    plt.tight_layout()\n",
    "    plt.show()"
   ]
  },
  {
   "cell_type": "markdown",
   "id": "2867f8de",
   "metadata": {},
   "source": [
    "## Display Examples from Training Set"
   ]
  },
  {
   "cell_type": "code",
   "execution_count": null,
   "id": "92d8c7ea",
   "metadata": {},
   "outputs": [],
   "source": [
    "# Display some examples from the training set\n",
    "plot_digits(X_train.values, y_train)"
   ]
  },
  {
   "cell_type": "markdown",
   "id": "55b16ca4",
   "metadata": {},
   "source": [
    "## Apply PCA for Visualization"
   ]
  },
  {
   "cell_type": "code",
   "execution_count": null,
   "id": "61e29a33",
   "metadata": {},
   "outputs": [],
   "source": [
    "# Apply PCA to reduce dimensions for visualization\n",
    "pca = PCA(n_components=2)\n",
    "X_pca = pca.fit_transform(X_train)"
   ]
  },
  {
   "cell_type": "markdown",
   "id": "d1552bb7",
   "metadata": {},
   "source": [
    "## Plot First Two Principal Components"
   ]
  },
  {
   "cell_type": "code",
   "execution_count": null,
   "id": "5be2ec9f",
   "metadata": {},
   "outputs": [],
   "source": [
    "# Plot the first two principal components\n",
    "plt.figure(figsize=(10, 8))\n",
    "scatter = plt.scatter(X_pca[:, 0], X_pca[:, 1], c=y_train, cmap='tab10', alpha=0.6)\n",
    "plt.colorbar(scatter, label='Digit')\n",
    "plt.xlabel('First Principal Component')\n",
    "plt.ylabel('Second Principal Component')\n",
    "plt.title('PCA of MNIST Dataset')\n",
    "plt.show()"
   ]
  },
  {
   "cell_type": "markdown",
   "id": "9e036ed3",
   "metadata": {},
   "source": [
    "## Train Random Forest Classifier"
   ]
  },
  {
   "cell_type": "code",
   "execution_count": null,
   "id": "e609fadb",
   "metadata": {},
   "outputs": [],
   "source": [
    "# Train a Random Forest classifier\n",
    "rf_model = RandomForestClassifier(n_estimators=100, random_state=42)\n",
    "rf_model.fit(X_train, y_train)"
   ]
  },
  {
   "cell_type": "markdown",
   "id": "8c4682c2",
   "metadata": {},
   "source": [
    "## Random Forest Predictions and Accuracy"
   ]
  },
  {
   "cell_type": "code",
   "execution_count": null,
   "id": "45f2aaa6",
   "metadata": {},
   "outputs": [],
   "source": [
    "# Make predictions\n",
    "y_pred_rf = rf_model.predict(X_test)\n",
    "\n",
    "# Evaluate the model\n",
    "accuracy_rf = accuracy_score(y_test, y_pred_rf)\n",
    "print(f\"Random Forest Accuracy: {accuracy_rf:.4f}\")"
   ]
  },
  {
   "cell_type": "markdown",
   "id": "1f2d4ca5",
   "metadata": {},
   "source": [
    "## Build Neural Network Model"
   ]
  },
  {
   "cell_type": "code",
   "execution_count": null,
   "id": "98c2fb13",
   "metadata": {},
   "outputs": [],
   "source": [
    "# Build a simple neural network\n",
    "model = keras.Sequential([\n",
    "    layers.Dense(128, activation='relu', input_shape=(784,)),\n",
    "    layers.Dropout(0.2),\n",
    "    layers.Dense(64, activation='relu'),\n",
    "    layers.Dropout(0.2),\n",
    "    layers.Dense(10, activation='softmax')\n",
    "])"
   ]
  },
  {
   "cell_type": "markdown",
   "id": "49b08d2d",
   "metadata": {},
   "source": [
    "## Compile Neural Network"
   ]
  },
  {
   "cell_type": "code",
   "execution_count": null,
   "id": "1eb24747",
   "metadata": {},
   "outputs": [],
   "source": [
    "# Compile the model\n",
    "model.compile(optimizer='adam',\n",
    "              loss='sparse_categorical_crossentropy',\n",
    "              metrics=['accuracy'])"
   ]
  },
  {
   "cell_type": "markdown",
   "id": "df8feea6",
   "metadata": {},
   "source": [
    "## Train Neural Network"
   ]
  },
  {
   "cell_type": "code",
   "execution_count": null,
   "id": "6fe2f79a",
   "metadata": {},
   "outputs": [],
   "source": [
    "# Train the model\n",
    "history = model.fit(X_train, y_train, \n",
    "                    epochs=15, \n",
    "                    batch_size=32, \n",
    "                    validation_split=0.2, \n",
    "                    verbose=1)"
   ]
  },
  {
   "cell_type": "markdown",
   "id": "b96a4075",
   "metadata": {},
   "source": [
    "## Evaluate Neural Network"
   ]
  },
  {
   "cell_type": "code",
   "execution_count": null,
   "id": "b6bc8678",
   "metadata": {},
   "outputs": [],
   "source": [
    "# Evaluate the neural network\n",
    "test_loss, test_acc = model.evaluate(X_test, y_test, verbose=0)\n",
    "print(f\"Neural Network Test Accuracy: {test_acc:.4f}\")"
   ]
  },
  {
   "cell_type": "markdown",
   "id": "5cf8f88b",
   "metadata": {},
   "source": [
    "## Plot Neural Network Training History"
   ]
  },
  {
   "cell_type": "code",
   "execution_count": null,
   "id": "178cbde8",
   "metadata": {},
   "outputs": [],
   "source": [
    "# Plot training history\n",
    "plt.figure(figsize=(12, 4))\n",
    "\n",
    "plt.subplot(1, 2, 1)\n",
    "plt.plot(history.history['accuracy'], label='Training Accuracy')\n",
    "plt.plot(history.history['val_accuracy'], label='Validation Accuracy')\n",
    "plt.title('Model Accuracy')\n",
    "plt.xlabel('Epoch')\n",
    "plt.ylabel('Accuracy')\n",
    "plt.legend()\n",
    "\n",
    "plt.subplot(1, 2, 2)\n",
    "plt.plot(history.history['loss'], label='Training Loss')\n",
    "plt.plot(history.history['val_loss'], label='Validation Loss')\n",
    "plt.title('Model Loss')\n",
    "plt.xlabel('Epoch')\n",
    "plt.ylabel('Loss')\n",
    "plt.legend()\n",
    "\n",
    "plt.tight_layout()\n",
    "plt.show()"
   ]
  },
  {
   "cell_type": "markdown",
   "id": "0977aee9",
   "metadata": {},
   "source": [
    "## Neural Network Predictions and Confusion Matrix"
   ]
  },
  {
   "cell_type": "code",
   "execution_count": null,
   "id": "8132978a",
   "metadata": {},
   "outputs": [],
   "source": [
    "# Make predictions with the neural network\n",
    "y_pred_nn = model.predict(X_test)\n",
    "y_pred_nn_classes = np.argmax(y_pred_nn, axis=1)\n",
    "\n",
    "# Confusion matrix\n",
    "cm = confusion_matrix(y_test, y_pred_nn_classes)\n",
    "plt.figure(figsize=(10, 8))\n",
    "sns.heatmap(cm, annot=True, fmt='d', cmap='Blues')\n",
    "plt.title('Confusion Matrix')\n",
    "plt.ylabel('True Label')\n",
    "plt.xlabel('Predicted Label')\n",
    "plt.show()\n",
    "\n",
    "# Classification report\n",
    "print(\"Classification Report:\")\n",
    "print(classification_report(y_test, y_pred_nn_classes))"
   ]
  },
  {
   "cell_type": "markdown",
   "id": "3083588e",
   "metadata": {},
   "source": [
    "## Visualizing Misclassified Examples"
   ]
  },
  {
   "cell_type": "code",
   "execution_count": null,
   "id": "5a2ae535",
   "metadata": {},
   "outputs": [],
   "source": [
    "# Find misclassified examples\n",
    "misclassified_idx = np.where(y_pred_nn_classes != y_test)[0]\n",
    "\n",
    "# Display some misclassified examples\n",
    "if len(misclassified_idx) > 0:\n",
    "    plt.figure(figsize=(12, 6))\n",
    "    for i, idx in enumerate(misclassified_idx[:10]):\n",
    "        plt.subplot(2, 5, i+1)\n",
    "        plt.imshow(X_test.iloc[idx].values.reshape(28, 28), cmap='gray')\n",
    "        plt.title(f'True: {y_test.iloc[idx]}, Pred: {y_pred_nn_classes[idx]}')\n",
    "        plt.axis('off')\n",
    "    plt.tight_layout()\n",
    "    plt.show()\n",
    "else:\n",
    "    print(\"No misclassified examples found!\")"
   ]
  },
  {
   "cell_type": "markdown",
   "id": "ee73d55a",
   "metadata": {},
   "source": [
    "## Model Comparison"
   ]
  },
  {
   "cell_type": "code",
   "execution_count": null,
   "id": "00e458b0",
   "metadata": {},
   "outputs": [],
   "source": [
    "# Compare model performances\n",
    "models = ['Random Forest', 'Neural Network']\n",
    "accuracies = [accuracy_rf, test_acc]\n",
    "\n",
    "plt.figure(figsize=(8, 6))\n",
    "bars = plt.bar(models, accuracies, color=['skyblue', 'lightgreen'])\n",
    "plt.ylabel('Accuracy')\n",
    "plt.title('Model Comparison')\n",
    "plt.ylim(0, 1)\n",
    "\n",
    "# Add value labels on bars\n",
    "for bar in bars:\n",
    "    height = bar.get_height()\n",
    "    plt.text(bar.get_x() + bar.get_width()/2., height + 0.01,\n",
    "             f'{height:.4f}', ha='center', va='bottom')\n",
    "\n",
    "plt.show()"
   ]
  },
  {
   "cell_type": "markdown",
   "id": "83bbfedd",
   "metadata": {},
   "source": [
    "## Conclusion"
   ]
  },
  {
   "cell_type": "code",
   "execution_count": null,
   "id": "3c611d3d",
   "metadata": {},
   "outputs": [],
   "source": [
    "print(\"Analysis Complete!\")"
   ]
  }
 ],
 "metadata": {
  "language_info": {
   "name": "python"
  }
 },
 "nbformat": 4,
 "nbformat_minor": 5
}
