{
 "cells": [
  {
   "cell_type": "markdown",
   "id": "059f15ba",
   "metadata": {},
   "source": [
    "# Frequent GDP Analysis (2020–2025) — Interactive Notebook\n",
    "\n",
    "This notebook performs an end-to-end interactive analysis of the Kaggle dataset \"GDP per country (2020–2025)\" (https://www.kaggle.com/datasets/codebynadiia/gdp-per-country-20202025/data).\n",
    "\n",
    "Goals:\n",
    "- Load the dataset automatically from `/kaggle/input` (or accept a downloaded CSV) and coerce it to a consistent long format (columns: `country`, `year`, `gdp`).\n",
    "- Explore the data with interactive Plotly visualizations (histograms, pair matrix, heatmaps, subplots, 3D, boxplots, choropleth where possible).\n",
    "- Compute growth metrics (YoY, CAGR) and create a year-by-year animation saved as `/kaggle/working/gdp_animation.mp4` (and an interactive HTML).\n",
    "\n",
    "Notes:\n",
    "- All visualizations use Plotly (no matplotlib). Light/pastel palettes are used for pleasant interactive visuals.\n",
    "- Outputs (clean CSV, HTMLs, frames, final MP4) are saved under `/kaggle/working/`.\n",
    "\n",
    "Estimated runtime for full export (frames + mp4): ~1–5 minutes depending on environment and whether `kaleido` and `imageio` are available to export images and stitch video."
   ]
  },
  {
   "cell_type": "markdown",
   "id": "aba4f3a0",
   "metadata": {},
   "source": [
    "## How to run\n",
    "\n",
    "- Run cells top-to-bottom in a Kaggle/Colab/Jupyter environment.\n",
    "- If running outside Kaggle, ensure you have the dataset CSV available and placed somewhere accessible; the notebook auto-searches `/kaggle/input` first.\n",
    "- If `kaleido` or `imageio-ffmpeg` are not installed and you want to export PNG frames and MP4, uncomment the pip install lines in the \"Install checks\" cell.\n",
    "- Sampling: heavy visuals sample up to 2,500 countries/rows for performance (stable reproducible sampling with `RANDOM_STATE = 42`)."
   ]
  },
  {
   "cell_type": "code",
   "execution_count": null,
   "id": "3bfb7885",
   "metadata": {},
   "outputs": [],
   "source": [
    "# Environment & Imports\n",
    "import sys\n",
    "import os\n",
    "import math\n",
    "import glob\n",
    "import json\n",
    "import warnings\n",
    "warnings.filterwarnings('ignore')\n",
    "\n",
    "import pandas as pd\n",
    "import numpy as np\n",
    "import plotly.express as px\n",
    "import plotly.graph_objects as go\n",
    "from plotly.subplots import make_subplots\n",
    "\n",
    "from sklearn.cluster import KMeans\n",
    "from sklearn.preprocessing import StandardScaler\n",
    "\n",
    "# Export/animation libs (optional)\n",
    "try:\n",
    "    import kaleido  # used by Plotly to write images\n",
    "    _HAS_KALEIDO = True\n",
    "except Exception:\n",
    "    _HAS_KALEIDO = False\n",
    "\n",
    "try:\n",
    "    import imageio\n",
    "    _HAS_IMAGEIO = True\n",
    "except Exception:\n",
    "    _HAS_IMAGEIO = False\n",
    "\n",
    "RANDOM_STATE = 42\n",
    "\n",
    "# Print versions\n",
    "versions = {\n",
    "    'python': sys.version.split()[0],\n",
    "    'pandas': getattr(pd, '__version__', 'unknown'),\n",
    "    'numpy': getattr(np, '__version__', 'unknown'),\n",
    "    'plotly': getattr(px, '__version__', getattr(go, '__version__', 'unknown')),\n",
    "    'scikit-learn': None,\n",
    "    'kaleido': 'installed' if _HAS_KALEIDO else 'missing',\n",
    "    'imageio': 'installed' if _HAS_IMAGEIO else 'missing'\n",
    "}\n",
    "import sklearn\n",
    "versions['scikit-learn'] = getattr(sklearn, '__version__', 'unknown')\n",
    "print('Library versions:')\n",
    "for k, v in versions.items():\n",
    "    print(f\"- {k}: {v}\")"
   ]
  },
  {
   "cell_type": "markdown",
   "id": "9c3830c6",
   "metadata": {},
   "source": [
    "### Install checks (optional)\n",
    "\n",
    "If you need image export (PNG frames) and MP4 creation, ensure `kaleido` and `imageio-ffmpeg` are installed.\n",
    "Uncomment and run the commands below in an environment where installing packages is allowed."
   ]
  },
  {
   "cell_type": "code",
   "execution_count": null,
   "id": "e4559efb",
   "metadata": {},
   "outputs": [],
   "source": [
    "# Example installs (do NOT run in restricted environments unless you want to install packages):\n",
    "# !pip install kaleido imageio imageio-ffmpeg\n",
    "# After installing, restart the kernel to ensure Plotly finds kaleido.\n",
    "print('kaleido available:', _HAS_KALEIDO)\n",
    "print('imageio available:', _HAS_IMAGEIO)"
   ]
  },
  {
   "cell_type": "markdown",
   "id": "1d00463d",
   "metadata": {},
   "source": [
    "## Load & Inspect Data\n",
    "\n",
    "This cell attempts to auto-detect CSV files under `/kaggle/input` and load the most likely main CSV. If no CSV is found, it will print a clear message so you can place the CSV manually or provide a path."
   ]
  },
  {
   "cell_type": "code",
   "execution_count": null,
   "id": "de5a82a2",
   "metadata": {},
   "outputs": [],
   "source": [
    "# Auto-detect CSV under /kaggle/input (recursive search)\n",
    "def find_csvs(base_path='/kaggle/input'):\n",
    "    csv_paths = []\n",
    "    if not os.path.exists(base_path):\n",
    "        return csv_paths\n",
    "    for root, dirs, files in os.walk(base_path):\n",
    "        for f in files:\n",
    "            if f.lower().endswith('.csv'):\n",
    "                csv_paths.append(os.path.join(root, f))\n",
    "    return csv_paths\n",
    "\n",
    "csv_files = find_csvs('/kaggle/input')\n",
    "print('Found CSVs (sample up to 10):')\n",
    "for p in csv_files[:10]:\n",
    "    print('-', p)\n",
    "\n",
    "df = None\n",
    "if csv_files:\n",
    "    # Heuristic: pick the largest CSV (most rows) as the main table\n",
    "    sizes = [(p, os.path.getsize(p)) for p in csv_files]\n",
    "    sizes.sort(key=lambda x: x[1], reverse=True)\n",
    "    candidate = sizes[0][0]\n",
    "    print('\\nLoading candidate CSV:', candidate)\n",
    "    try:\n",
    "        df = pd.read_csv(candidate)\n",
    "    except Exception as e:\n",
    "        print('CSV load failed:', e)\n",
    "        # fallback: try pandas read_table\n",
    "        try:\n",
    "            df = pd.read_table(candidate)\n",
    "        except Exception as e2:\n",
    "            print('Fallback read_table failed:', e2)\n",
    "\n",
    "if df is None:\n",
    "    print('\\nNo CSV found under /kaggle/input or load failed.\\nPlease download the Kaggle dataset and place the CSV under /kaggle/input/<dataset>/ or set a path manually and re-run this cell.')\n",
    "else:\n",
    "    print('\\ndf.shape =>', df.shape)\n",
    "    display(df.head())\n",
    "    print('\\nColumns:')\n",
    "    print(list(df.columns))"
   ]
  },
  {
   "cell_type": "markdown",
   "id": "e9a14dc9",
   "metadata": {},
   "source": [
    "## Normalize Data Format (wide ↔ long)\n",
    "\n",
    "This cell detects whether the data is in wide format (year columns like `2020`, `2021` or `GDP_2020`), or long format (rows for `country`, `year`, `gdp`). It standardizes to `df_long` with three columns: `country`, `year` (int), `gdp` (float).\n",
    "\n",
    "Missing and malformed rows are handled, and a diagnostic markdown summary is printed."
   ]
  },
  {
   "cell_type": "code",
   "execution_count": null,
   "id": "616484a1",
   "metadata": {},
   "outputs": [],
   "source": [
    "# Normalize to long format with columns: country, year, gdp\n",
    "def normalize_gdp_dataframe(df_raw):\n",
    "    df_work = df_raw.copy()\n",
    "    # Standardize column names to strings\n",
    "    df_work.columns = [str(c).strip() for c in df_work.columns]\n",
    "    cols = df_work.columns.tolist()\n",
    "\n",
    "    # Heuristics to find country column name\n",
    "    country_col_candidates = [c for c in cols if c.lower() in ('country', 'country_name', 'countryname', 'country/region', 'countries')]\n",
    "    if country_col_candidates:\n",
    "        country_col = country_col_candidates[0]\n",
    "    else:\n",
    "        # fallback: pick first non-year string column\n",
    "        non_year_cols = [c for c in cols if not (c.strip().lstrip('GDP_').replace('_','').isdigit() or c.strip().isdigit())]\n",
    "        country_col = non_year_cols[0] if non_year_cols else cols[0]\n",
    "\n",
    "    # Detect year-like columns (e.g. '2020', '2021', 'GDP_2020', '2020_gdp')\n",
    "    year_like = []\n",
    "    for c in cols:\n",
    "        token = c.strip()\n",
    "        # direct numeric year\n",
    "        if token.isdigit() and 1900 <= int(token) <= 2100:\n",
    "            year_like.append(c)\n",
    "            continue\n",
    "        # patterns like GDP_2020 or gdp2020\n",
    "        import re\n",
    "        m = re.search(r\"(19|20)\\d{2}\", token)\n",
    "        if m:\n",
    "            year_like.append(c)\n",
    "    \n",
    "    # Decide wide vs long\n",
    "    if year_like and len(year_like) >= 2:\n",
    "        detected_format = 'wide'\n",
    "        # melt keeping country_col\n",
    "        id_vars = [country_col]\n",
    "        df_melt = df_work.melt(id_vars=id_vars, value_vars=year_like, var_name='year_raw', value_name='gdp_raw')\n",
    "        # Extract year integer\n",
    "        def extract_year(x):\n",
    "            import re\n",
    "            s = str(x)\n",
    "            m = re.search(r\"(19|20)\\d{2}\", s)\n",
    "            return int(m.group(0)) if m else None\n",
    "        df_melt['year'] = df_melt['year_raw'].apply(extract_year)\n",
    "        df_melt.rename(columns={country_col: 'country'}, inplace=True)\n",
    "        df_melt['gdp'] = pd.to_numeric(df_melt['gdp_raw'], errors='coerce')\n",
    "        df_long = df_melt[['country','year','gdp']].copy()\n",
    "    else:\n",
    "        # Try to detect long format\n",
    "        possible_year_cols = [c for c in cols if c.lower() in ('year','yr')]\n",
    "        possible_gdp_cols = [c for c in cols if c.lower() in ('gdp','gdp_value','gdp_usd','gdp_usd_millions')]\n",
    "        if possible_year_cols and possible_gdp_cols:\n",
    "            detected_format = 'long'\n",
    "            df2 = df_work.rename(columns={possible_year_cols[0]: 'year', possible_gdp_cols[0]: 'gdp'})\n",
    "            df2 = df2.rename(columns={country_col: 'country'})\n",
    "            df2['year'] = pd.to_numeric(df2['year'], errors='coerce')\n",
    "            df2['gdp'] = pd.to_numeric(df2['gdp'], errors='coerce')\n",
    "            df_long = df2[['country','year','gdp']].copy()\n",
    "        else:\n",
    "            # Try common wide layout where years are column names directly like '2020','2021'\n",
    "            year_cols = [c for c in cols if c.strip().isdigit() and 1900 <= int(c.strip()) <= 2100]\n",
    "            if year_cols:\n",
    "                detected_format = 'wide'\n",
    "                df_melt = df_work.melt(id_vars=[country_col], value_vars=year_cols, var_name='year', value_name='gdp')\n",
    "                df_melt.rename(columns={country_col: 'country'}, inplace=True)\n",
    "                df_melt['year'] = pd.to_numeric(df_melt['year'], errors='coerce')\n",
    "                df_melt['gdp'] = pd.to_numeric(df_melt['gdp'], errors='coerce')\n",
    "                df_long = df_melt[['country','year','gdp']].copy()\n",
    "            else:\n",
    "                # Last fallback: try to find probable year and gdp columns heuristically\n",
    "                detected_format = 'unknown'\n",
    "                # attempt to find any column with years inside values\n",
    "                # If nothing else, return an empty normalized dataframe\n",
    "                df_long = pd.DataFrame(columns=['country','year','gdp'])\n",
    "\n",
    "    # Clean country names\n",
    "    if not df_long.empty:\n",
    "        df_long['country'] = df_long['country'].astype(str).str.strip()\n",
    "        df_long = df_long.dropna(subset=['country'])\n",
    "        df_long['year'] = pd.to_numeric(df_long['year'], errors='coerce').astype('Int64')\n",
    "        df_long['gdp'] = pd.to_numeric(df_long['gdp'], errors='coerce')\n",
    "        df_long = df_long.dropna(subset=['year'])\n",
    "        df_long['year'] = df_long['year'].astype(int)\n",
    "    \n",
    "    return df_long, detected_format\n",
    "\n",
    "df_long = None\n",
    "detected_format = None\n",
    "if df is not None:\n",
    "    df_long, detected_format = normalize_gdp_dataframe(df)\n",
    "    print('Detected format:', detected_format)\n",
    "    print('df_long.shape =>', df_long.shape)\n",
    "    display(df_long.head())\n",
    "    # Show available years\n",
    "    print('Years present (sample):', sorted(df_long['year'].unique())[:20])"
   ]
  },
  {
   "cell_type": "markdown",
   "id": "43d0c642",
   "metadata": {},
   "source": [
    "### Post-normalization checks & enforcement of 2020..2025\n",
    "\n",
    "Ensure `year` contains the expected range 2020–2025. If the dataset has a wider range or year parsing issues, we coerce and warn."
   ]
  },
  {
   "cell_type": "code",
   "execution_count": null,
   "id": "1db3ab7f",
   "metadata": {},
   "outputs": [],
   "source": [
    "REQUIRED_YEARS = list(range(2020, 2026))\n",
    "if df_long is None or df_long.empty:\n",
    "    raise RuntimeError('No normalized data available. Please check the dataset file and re-run the previous cells.')\n",
    "\n",
    "present_years = sorted(df_long['year'].unique())\n",
    "print('Present years in data:', present_years)\n",
    "missing_required = [y for y in REQUIRED_YEARS if y not in present_years]\n",
    "if missing_required:\n",
    "    print('\\nWarning: expected years 2020..2025 not all present. Missing:', missing_required)\n",
    "    # If years outside this range exist, we keep them but later we will restrict animation to 2020..2025 if any of these are present.\n",
    "else:\n",
    "    print('\\nAll required years (2020..2025) are present.')"
   ]
  },
  {
   "cell_type": "markdown",
   "id": "001cfb9b",
   "metadata": {},
   "source": [
    "## Handle Missing Values & Interpolation Strategy\n",
    "\n",
    "Strategy implemented:\n",
    "- For each country, compute the proportion of missing years (within the YEAR RANGE present). If >30% missing, drop country from animations/trend analysis (we still keep it in the cleaned CSV but mark it).\n",
    "- For remaining countries, linearly interpolate small gaps across years and forward/backfill only at the edges if necessary.\n",
    "- Document dropped countries and reasons."
   ]
  },
  {
   "cell_type": "code",
   "execution_count": null,
   "id": "62d1feda",
   "metadata": {},
   "outputs": [],
   "source": [
    "# Build a complete grid of country x year for required years (2020..2025) to evaluate missingness\n",
    "countries = sorted(df_long['country'].unique())\n",
    "years_all = sorted(df_long['year'].unique())\n",
    "\n",
    "# We'll create df_grid which contains all country-year combos for the years we have in the dataset\n",
    "year_min, year_max = min(years_all), max(years_all)\n",
    "grid_years = list(range(year_min, year_max+1))\n",
    "grid = pd.MultiIndex.from_product([countries, grid_years], names=['country','year']).to_frame(index=False)\n",
    "df_full = pd.merge(grid, df_long, on=['country','year'], how='left')\n",
    "\n",
    "# Compute missingness per country for the YEARS RANGE we will analyze (restrict to 2020..2025 intersection)\n",
    "analysis_years = [y for y in REQUIRED_YEARS if y >= year_min and y <= year_max]\n",
    "print('Analysis years used:', analysis_years)\n",
    "\n",
    "def country_missing_stats(df_full, analysis_years):\n",
    "    stats = []\n",
    "    for c in df_full['country'].unique():\n",
    "        sub = df_full[(df_full['country']==c) & (df_full['year'].isin(analysis_years))]\n",
    "        total = len(analysis_years)\n",
    "        missing = sub['gdp'].isna().sum()\n",
    "        stats.append({'country': c, 'total_years': total, 'missing_years': int(missing), 'missing_pct': missing/total if total>0 else 1.0})\n",
    "    return pd.DataFrame(stats)\n",
    "\n",
    "missing_stats = country_missing_stats(df_full, analysis_years)\n",
    "dropped_countries = missing_stats[missing_stats['missing_pct'] > 0.3]['country'].tolist()\n",
    "print('Countries dropped from trend/animation due to >30% missing years (count={}):'.format(len(dropped_countries)))\n",
    "print(dropped_countries[:20])\n",
    "\n",
    "# Interpolate small gaps for remaining countries\n",
    "keep_countries = [c for c in countries if c not in dropped_countries]\n",
    "df_interp = df_full[df_full['country'].isin(keep_countries)].copy()\n",
    "df_interp = df_interp.sort_values(['country','year'])\n",
    "\n",
    "# Linear interpolation per country across the full year range we have (not restricted to 2020..2025 to preserve continuity)\n",
    "def interp_group(g):\n",
    "    g = g.set_index('year').sort_index()\n",
    "    # Interpolate only if at least two numeric values exist\n",
    "    if g['gdp'].count() >= 2:\n",
    "        g['gdp'] = g['gdp'].interpolate(method='linear', limit_direction='both')\n",
    "    else:\n",
    "        # insufficient data; leave as is\n",
    "        pass\n",
    "    g = g.reset_index()\n",
    "    return g\n",
    "\n",
    "df_interp = df_interp.groupby('country', group_keys=False).apply(interp_group).reset_index(drop=True)\n",
    "\n",
    "# Mark dropped countries in the full df_long as well for CSV output\n",
    "df_long_clean = df_long.copy()\n",
    "df_long_clean['dropped_for_animation'] = df_long_clean['country'].isin(dropped_countries)\n",
    "\n",
    "print('After interpolation, sample:')\n",
    "display(df_interp.head())"
   ]
  },
  {
   "cell_type": "markdown",
   "id": "b7a6b0fb",
   "metadata": {},
   "source": [
    "## Summary Stats & Quick EDA\n",
    "\n",
    "Compute key summary statistics and show top-10 countries by average GDP (2020–2025). We'll save the top-10 bar chart as an interactive HTML."
   ]
  },
  {
   "cell_type": "code",
   "execution_count": null,
   "id": "0f9fcf9e",
   "metadata": {},
   "outputs": [],
   "source": [
    "# Compute stats for analysis years (intersection)\n",
    "df_analysis = df_long_clean[df_long_clean['year'].isin(analysis_years)].copy()\n",
    "grouped = df_analysis.groupby('country', as_index=False)['gdp'].mean()\n",
    "grouped = grouped.rename(columns={'gdp':'gdp_avg'})\n",
    "top10 = grouped.sort_values('gdp_avg', ascending=False).head(10)\n",
    "print('Top 10 countries by average GDP ({} years):'.format(len(analysis_years)))\n",
    "display(top10)\n",
    "\n",
    "# Interactive pastel bar chart\n",
    "palette = px.colors.sequential.Plasma[-6:]  # use a soft palette fallback\n",
    "fig_top10 = px.bar(top10, x='country', y='gdp_avg', title='Top 10 countries by average GDP ({}-{})'.format(min(analysis_years), max(analysis_years)),\n",
    "                  color='gdp_avg', color_continuous_scale=px.colors.sequential.Peach, text='gdp_avg')\n",
    "fig_top10.update_layout(coloraxis_showscale=False, template='simple_white')\n",
    "\n",
    "OUT_DIR = '/kaggle/working'\n",
    "os.makedirs(os.path.join(OUT_DIR, 'frames'), exist_ok=True)\n",
    "top10_html = os.path.join(OUT_DIR, 'fig_top10_avg.html')\n",
    "fig_top10.write_html(top10_html)\n",
    "print('Saved interactive top10 HTML to', top10_html)\n",
    "fig_top10"
   ]
  },
  {
   "cell_type": "markdown",
   "id": "15d4690f",
   "metadata": {},
   "source": [
    "Interpretation:\n",
    "\n",
    "- The bar chart above shows the top 10 countries by average GDP across the analysis years. Large economies appear at the top; this chart helps identify the dominant economies in absolute terms. Note: using absolute GDP favors large-population / large-economy countries; per-capita normalization is recommended for fairness."
   ]
  },
  {
   "cell_type": "markdown",
   "id": "e3cc91bd",
   "metadata": {},
   "source": [
    "## Distribution & Yearly Histograms\n",
    "\n",
    "We create histograms for each analysis year (2020..2025 intersection). For consistency we use the same bin edges across years and pastel colors. If the dataset is extremely large, we sample to 2500 rows for plotting performance."
   ]
  },
  {
   "cell_type": "code",
   "execution_count": null,
   "id": "17e4bae9",
   "metadata": {},
   "outputs": [],
   "source": [
    "MAX_SAMPLE = 2500\n",
    "df_for_hist = df_analysis.copy()\n",
    "if len(df_for_hist) > MAX_SAMPLE:\n",
    "    df_for_hist = df_for_hist.sample(n=MAX_SAMPLE, random_state=RANDOM_STATE)\n",
    "\n",
    "gdp_vals = df_for_hist['gdp'].dropna()\n",
    "bins = np.histogram_bin_edges(gdp_vals, bins='auto')\n",
    "\n",
    "hist_html_paths = []\n",
    "for y in analysis_years:\n",
    "    sub = df_for_hist[df_for_hist['year']==y]\n",
    "    fig = px.histogram(sub, x='gdp', nbins=len(bins)-1, title=f'GDP distribution - {y}',\n",
    "                       labels={'gdp':'GDP'}, template='simple_white')\n",
    "    fig.update_traces(marker_color='rgb(179,205,227)')\n",
    "    html_path = os.path.join(OUT_DIR, f'fig_hist_{y}.html')\n",
    "    fig.write_html(html_path)\n",
    "    hist_html_paths.append(html_path)\n",
    "    display(fig)\n",
    "    print('Saved', html_path)"
   ]
  },
  {
   "cell_type": "markdown",
   "id": "11177cf3",
   "metadata": {},
   "source": [
    "Interpretation:\n",
    "\n",
    "- These histograms show GDP distribution for each year. Expect right-skew: a few very large GDPs (USA, China) and many smaller economies. Look for changes in spread and tail behavior year-to-year; sudden shifts usually indicate data issues or re-basing."
   ]
  },
  {
   "cell_type": "markdown",
   "id": "dd524692",
   "metadata": {},
   "source": [
    "## Pair Plot / Scatter Matrix\n",
    "\n",
    "We pivot countries into columns for the year-wise GDP values and build a scatter matrix for pairwise relationships across years. We sample up to 2500 countries/rows to keep interactivity responsive."
   ]
  },
  {
   "cell_type": "code",
   "execution_count": null,
   "id": "ef261bb7",
   "metadata": {},
   "outputs": [],
   "source": [
    "# Pivot: countries as rows, years as columns\n",
    "pivot = df_long.pivot_table(index='country', columns='year', values='gdp')\n",
    "pivot_cols = [c for c in pivot.columns if c in analysis_years]\n",
    "pivot_sub = pivot[pivot_cols].dropna(axis=0, how='any')  # only countries with full data for analysis years\n",
    "print('Pivot shape (countries x years):', pivot_sub.shape)\n",
    "\n",
    "pivot_for_matrix = pivot_sub.reset_index()\n",
    "if len(pivot_for_matrix) > MAX_SAMPLE:\n",
    "    pivot_for_matrix = pivot_for_matrix.sample(n=MAX_SAMPLE, random_state=RANDOM_STATE)\n",
    "\n",
    "if len(pivot_for_matrix.columns) >= 3:\n",
    "    fig = px.scatter_matrix(pivot_for_matrix, dimensions=pivot_cols, color_discrete_sequence=px.colors.qualitative.Pastel, title='Scatter matrix across years')\n",
    "    fig.update_layout(width=900, height=900)\n",
    "    scatter_matrix_html = os.path.join(OUT_DIR, 'fig_scatter_matrix.html')\n",
    "    fig.write_html(scatter_matrix_html)\n",
    "    print('Saved scatter matrix to', scatter_matrix_html)\n",
    "    \n",
    "    fig\n",
    "else:\n",
    "    print('Not enough year-columns for scatter matrix. Need at least 3 columns.')"
   ]
  },
  {
   "cell_type": "markdown",
   "id": "fee6c5d4",
   "metadata": {},
   "source": [
    "Interpretation:\n",
    "\n",
    "- The scatter matrix helps detect strong linear relationships between GDPs across years. High correlation across adjacent years is expected for GDP; look for weak correlations that might indicate outliers or data inconsistency."
   ]
  },
  {
   "cell_type": "markdown",
   "id": "09027523",
   "metadata": {},
   "source": [
    "## Correlation Heatmap (years correlation)\n",
    "\n",
    "Compute a correlation matrix among years (countries are observations). For performance, limit to top-25 countries by average GDP."
   ]
  },
  {
   "cell_type": "code",
   "execution_count": null,
   "id": "c037ac1b",
   "metadata": {},
   "outputs": [],
   "source": [
    "top25_countries = grouped.sort_values('gdp_avg', ascending=False).head(25)['country'].tolist()\n",
    "pivot_top25 = pivot.loc[top25_countries, pivot_cols]\n",
    "corr = pivot_top25.transpose().corr()\n",
    "fig = px.imshow(corr, text_auto='.2f', aspect='auto', color_continuous_scale='RdBu', origin='lower',\n",
    "                title='Correlation across years (top 25 countries)')\n",
    "heatmap_html = os.path.join(OUT_DIR, 'fig_corr_heatmap.html')\n",
    "fig.write_html(heatmap_html)\n",
    "print('Saved heatmap to', heatmap_html)\n",
    "fig"
   ]
  },
  {
   "cell_type": "markdown",
   "id": "5b6cae90",
   "metadata": {},
   "source": [
    "Interpretation:\n",
    "\n",
    "- Heatmap shows very high correlations across adjacent years for GDP; this is typical for annual GDP values. Low-correlation cells indicate countries that changed more dramatically."
   ]
  },
  {
   "cell_type": "markdown",
   "id": "55324200",
   "metadata": {},
   "source": [
    "## Subplots Example (global average, distribution boxplot, top-5 lines)\n",
    "Create a multi-panel interactive Plotly figure combining three perspectives."
   ]
  },
  {
   "cell_type": "code",
   "execution_count": null,
   "id": "c5470a11",
   "metadata": {},
   "outputs": [],
   "source": [
    "# Global average across years\n",
    "global_avg = df_analysis.groupby('year')['gdp'].mean().reset_index()\n",
    "\n",
    "# Boxplot data preparation\n",
    "df_box = df_analysis.copy()\n",
    "\n",
    "# Top-5 countries lines\n",
    "top5 = grouped.sort_values('gdp_avg', ascending=False).head(5)['country'].tolist()\n",
    "df_top5 = df_long[df_long['country'].isin(top5)].sort_values(['country','year'])\n",
    "\n",
    "fig = make_subplots(rows=3, cols=1, shared_xaxes=True, vertical_spacing=0.08,\n",
    "                    subplot_titles=('Global average GDP (years)', 'GDP distribution per year (boxplot)', 'Top-5 countries - GDP over time'))\n",
    "\n",
    "fig.add_trace(go.Scatter(x=global_avg['year'], y=global_avg['gdp'], mode='lines+markers', name='Global Avg', line=dict(color='rgb(179,205,227)')) , row=1, col=1)\n",
    "\n",
    "for y in sorted(df_box['year'].unique()):\n",
    "    # for boxplot we'll create a box trace grouped by year using px.box would normally be simpler\n",
    "    pass\n",
    "\n",
    "fig.add_trace(go.Box(x=df_box['year'], y=df_box['gdp'], name='Distribution', marker_color='rgb(204,235,197)', boxmean='sd'), row=2, col=1)\n",
    "\n",
    "for c in top5:\n",
    "    tmp = df_top5[df_top5['country']==c]\n",
    "    fig.add_trace(go.Scatter(x=tmp['year'], y=tmp['gdp'], mode='lines+markers', name=c), row=3, col=1)\n",
    "\n",
    "fig.update_layout(height=1000, showlegend=True, template='simple_white', title_text='Subplots: global avg, distribution and top-5 trends')\n",
    "subplots_html = os.path.join(OUT_DIR, 'fig_subplots.html')\n",
    "fig.write_html(subplots_html)\n",
    "print('Saved subplots to', subplots_html)\n",
    "fig"
   ]
  },
  {
   "cell_type": "markdown",
   "id": "d32be2d5",
   "metadata": {},
   "source": [
    "Interpretation:\n",
    "\n",
    "- The top panel shows the global average GDP over years; the boxplot summarizes per-year distribution and dispersion; the bottom panel shows trend lines for the top-5 economies, highlighting their relative stability or growth."
   ]
  },
  {
   "cell_type": "markdown",
   "id": "49c7d0f6",
   "metadata": {},
   "source": [
    "## Boxplot / Violin per year\n",
    "\n",
    "Interactive boxplots or violins help identify distribution shape and outliers per year."
   ]
  },
  {
   "cell_type": "code",
   "execution_count": null,
   "id": "c9c58a1f",
   "metadata": {},
   "outputs": [],
   "source": [
    "fig_box = px.box(df_analysis, x='year', y='gdp', points='outliers', title='GDP distribution per year (boxplot)',\n",
    "                 color_discrete_sequence=['rgb(209,229,240)'])\n",
    "box_html = os.path.join(OUT_DIR, 'fig_box.html')\n",
    "fig_box.write_html(box_html)\n",
    "print('Saved boxplot to', box_html)\n",
    "fig_box"
   ]
  },
  {
   "cell_type": "markdown",
   "id": "cfc31b0b",
   "metadata": {},
   "source": [
    "Interpretation:\n",
    "\n",
    "- Boxplots show central tendency and spread of GDP across countries for each year. Watch for increasing dispersion or new outliers which may signal data issues or real economic divergence."
   ]
  },
  {
   "cell_type": "markdown",
   "id": "a26b4676",
   "metadata": {},
   "source": [
    "## Barplot & Dotplot (selected years)\n",
    "\n",
    "Compare top countries in 2020 vs 2025 (if 2025 exists). We'll create interactive bar and dot plots and save them."
   ]
  },
  {
   "cell_type": "code",
   "execution_count": null,
   "id": "ce54e26e",
   "metadata": {},
   "outputs": [],
   "source": [
    "def top_n_by_year(df_long, year, n=20):\n",
    "    sub = df_long[df_long['year']==year].copy()\n",
    "    sub = sub.dropna(subset=['gdp'])\n",
    "    return sub.sort_values('gdp', ascending=False).head(n)\n",
    "\n",
    "plots_saved = []\n",
    "for y in [min(analysis_years), max(analysis_years)]:\n",
    "    top20 = top_n_by_year(df_long, y, n=20)\n",
    "    fig_bar = px.bar(top20, x='country', y='gdp', title=f'Top 20 countries by GDP - {y}',\n",
    "                     color='gdp', color_continuous_scale=px.colors.sequential.Pastel)\n",
    "    path = os.path.join(OUT_DIR, f'fig_top20_{y}.html')\n",
    "    fig_bar.write_html(path)\n",
    "    plots_saved.append(path)\n",
    "    display(fig_bar)\n",
    "    # dotplot\n",
    "    fig_dot = px.scatter(top20, x='gdp', y='country', size='gdp', title=f'Dotplot - Top 20 GDP - {y}',\n",
    "                        color_discrete_sequence=['rgb(197,218,235)'])\n",
    "    path2 = os.path.join(OUT_DIR, f'fig_dot_top20_{y}.html')\n",
    "    fig_dot.write_html(path2)\n",
    "    plots_saved.append(path2)\n",
    "    display(fig_dot)\n",
    "print('Saved plots:', plots_saved[:6])"
   ]
  },
  {
   "cell_type": "markdown",
   "id": "d7e8bca1",
   "metadata": {},
   "source": [
    "Interpretation:\n",
    "\n",
    "- These visuals make it simple to compare the ranking and relative size of the largest economies in a single year and observe rank changes across years."
   ]
  },
  {
   "cell_type": "markdown",
   "id": "04c883d0",
   "metadata": {},
   "source": [
    "## Pie Chart for top-10 country share (selected year)\n",
    "\n",
    "Create a pie chart for a selected year and group the rest as `Other`."
   ]
  },
  {
   "cell_type": "code",
   "execution_count": null,
   "id": "8c9e6717",
   "metadata": {},
   "outputs": [],
   "source": [
    "def pie_top10(df_long, year):\n",
    "    sub = df_long[df_long['year']==year].dropna(subset=['gdp'])\n",
    "    top10 = sub.sort_values('gdp', ascending=False).head(10).copy()\n",
    "    others = sub[~sub['country'].isin(top10['country'])]['gdp'].sum()\n",
    "    top10 = top10.append({'country':'Other','gdp':others}, ignore_index=True)\n",
    "    fig = px.pie(top10, values='gdp', names='country', title=f'Top-10 share of global GDP - {year}',\n",
    "                 color_discrete_sequence=px.colors.sequential.Pastel)\n",
    "    return fig\n",
    "\n",
    "year_choice = min(analysis_years)\n",
    "fig_pie = pie_top10(df_long, year_choice)\n",
    "pie_html = os.path.join(OUT_DIR, f'fig_pie_top10_{year_choice}.html')\n",
    "fig_pie.write_html(pie_html)\n",
    "print('Saved pie to', pie_html)\n",
    "fig_pie"
   ]
  },
  {
   "cell_type": "markdown",
   "id": "b9e9b7e9",
   "metadata": {},
   "source": [
    "Interpretation:\n",
    "\n",
    "- Pie chart emphasizes share concentration; the top 10 countries commonly account for a large portion of global GDP. Use this with caution because pie charts can hide distribution nuances; combine with bar charts for clarity."
   ]
  },
  {
   "cell_type": "markdown",
   "id": "daa20a7d",
   "metadata": {},
   "source": [
    "## 3D Plot (if applicable)\n",
    "\n",
    "If additional numeric columns are present (e.g., GDP per capita or growth rate), we can create a 3D scatter. Otherwise we'll construct a temporal 3D view using `year` as z-axis for a selected subset of countries."
   ]
  },
  {
   "cell_type": "code",
   "execution_count": null,
   "id": "6a063762",
   "metadata": {},
   "outputs": [],
   "source": [
    "# Attempt to create a 3D plot using year as z for top 10 countries\n",
    "sample_countries = grouped.sort_values('gdp_avg', ascending=False).head(10)['country'].tolist()\n",
    "df_3d = df_long[df_long['country'].isin(sample_countries)].dropna(subset=['gdp'])\n",
    "fig_3d = px.scatter_3d(df_3d, x='year', y='country', z='gdp', color='country',\n",
    "                     title='3D temporal view (year, country, gdp)',\n",
    "                     color_discrete_sequence=px.colors.qualitative.Pastel)\n",
    "fig_3d.update_traces(marker=dict(size=6))\n",
    "three_d_html = os.path.join(OUT_DIR, 'fig_3d.html')\n",
    "fig_3d.write_html(three_d_html)\n",
    "print('Saved 3D plot to', three_d_html)\n",
    "fig_3d"
   ]
  },
  {
   "cell_type": "markdown",
   "id": "ab5e0594",
   "metadata": {},
   "source": [
    "Interpretation:\n",
    "\n",
    "- The 3D scatter uses year as the x-axis, country (categorical) on the y-axis and GDP on the z-axis to show how top-country GDPs evolve over time. Use rotation to explore temporal depth."
   ]
  },
  {
   "cell_type": "markdown",
   "id": "323b89a9",
   "metadata": {},
   "source": [
    "## Trend Analysis & Growth Rates\n",
    "\n",
    "Compute year-over-year (YoY) growth rates and CAGR (2020→2025) when both endpoints are available. Plot YoY lines for top-10 countries."
   ]
  },
  {
   "cell_type": "code",
   "execution_count": null,
   "id": "2f68ecf6",
   "metadata": {},
   "outputs": [],
   "source": [
    "df_analysis_sorted = df_long.sort_values(['country','year']).copy()\n",
    "df_analysis_sorted['gdp_lag1'] = df_analysis_sorted.groupby('country')['gdp'].shift(1)\n",
    "df_analysis_sorted['yoy_pct'] = (df_analysis_sorted['gdp'] / df_analysis_sorted['gdp_lag1'] - 1) * 100\n",
    "\n",
    "# Compute CAGR for countries that have both 2020 and 2025 values\n",
    "pivot_for_cagr = df_long[df_long['year'].isin([2020, 2025])].pivot(index='country', columns='year', values='gdp')\n",
    "if 2020 in pivot_for_cagr.columns and 2025 in pivot_for_cagr.columns:\n",
    "    pivot_for_cagr = pivot_for_cagr.dropna(subset=[2020, 2025])\n",
    "    pivot_for_cagr['abs_change'] = pivot_for_cagr[2025] - pivot_for_cagr[2020]\n",
    "    pivot_for_cagr['CAGR_2020_2025_pct'] = ((pivot_for_cagr[2025] / pivot_for_cagr[2020]) ** (1/5) - 1) * 100\n",
    "    cagr_summary = pivot_for_cagr[['abs_change','CAGR_2020_2025_pct']].sort_values('CAGR_2020_2025_pct', ascending=False)\n",
    "    display(cagr_summary.head(10))\n",
    "else:\n",
    "    print('Not enough data to compute 2020-2025 CAGR for countries (missing either 2020 or 2025).')\n",
    "\n",
    "# Plot YoY for top 10 average GDP countries\n",
    "top10_countries = top10['country'].tolist()\n",
    "df_top10_yoy = df_analysis_sorted[df_analysis_sorted['country'].isin(top10_countries)]\n",
    "fig_yoy = px.line(df_top10_yoy, x='year', y='yoy_pct', color='country', title='YoY growth percentage - Top 10 countries',\n",
    "                  color_discrete_sequence=px.colors.qualitative.Pastel)\n",
    "yoy_html = os.path.join(OUT_DIR, 'fig_yoy_top10.html')\n",
    "fig_yoy.write_html(yoy_html)\n",
    "print('Saved YoY plot to', yoy_html)\n",
    "fig_yoy"
   ]
  },
  {
   "cell_type": "markdown",
   "id": "713e2f61",
   "metadata": {},
   "source": [
    "Interpretation:\n",
    "\n",
    "- YoY lines reveal year-to-year volatility. Watch for extreme spikes or negative values indicating contraction. CAGR gives a compact view of multi-year growth."
   ]
  },
  {
   "cell_type": "markdown",
   "id": "ba659fa1",
   "metadata": {},
   "source": [
    "## Country Comparison Panel (subplot function)\n",
    "Function `plot_country_comparison` creates an interactive subplot showing each selected country's GDP across years with a consistent y-axis for easier comparisons."
   ]
  },
  {
   "cell_type": "code",
   "execution_count": null,
   "id": "c8e97e9a",
   "metadata": {},
   "outputs": [],
   "source": [
    "def plot_country_comparison(countries_list):\n",
    "    n = len(countries_list)\n",
    "    cols = 2\n",
    "    rows = math.ceil(n/cols)\n",
    "    fig = make_subplots(rows=rows, cols=cols, subplot_titles=countries_list, shared_yaxes=True)\n",
    "    r = 1\n",
    "    c = 1\n",
    "    for i, country in enumerate(countries_list):\n",
    "        tmp = df_long[df_long['country']==country].sort_values('year')\n",
    "        trace = go.Scatter(x=tmp['year'], y=tmp['gdp'], mode='lines+markers', name=country)\n",
    "        fig.add_trace(trace, row=r, col=c)\n",
    "        c += 1\n",
    "        if c > cols:\n",
    "            r += 1\n",
    "            c = 1\n",
    "    fig.update_layout(height=300*rows, title='Country comparison panel')\n",
    "    return fig\n",
    "\n",
    "sample_countries = top10['country'].tolist()[:6]\n",
    "fig_cmp = plot_country_comparison(sample_countries)\n",
    "cmp_html = os.path.join(OUT_DIR, 'fig_country_comparison.html')\n",
    "fig_cmp.write_html(cmp_html)\n",
    "print('Saved comparison panel to', cmp_html)\n",
    "fig_cmp"
   ]
  },
  {
   "cell_type": "markdown",
   "id": "827d4fed",
   "metadata": {},
   "source": [
    "Interpretation:\n",
    "\n",
    "- Each subplot shows one country's GDP over time. Shared y-axis makes relative comparisons easier; look for diverging or converging trends."
   ]
  },
  {
   "cell_type": "markdown",
   "id": "22bcae55",
   "metadata": {},
   "source": [
    "## Animation → Create `.mp4`\n",
    "\n",
    "Approach used:\n",
    "- For robustness, we implement the frame-by-frame export approach (Option 2). For each year in the analysis years we render a Plotly figure (top N bar chart + global average inset) and save a PNG frame using `fig.write_image(...)` (requires `kaleido`).\n",
    "- Frames are stitched into `/kaggle/working/gdp_animation.mp4` using `imageio`. If `kaleido` or `imageio` are missing, we write an interactive HTML animation and provide clear fallback instructions.\n",
    "  \n",
    "If `kaleido` is missing, the notebook will not attempt per-frame PNG exports and will instead save an interactive `fig.write_html(...)` animation."
   ]
  },
  {
   "cell_type": "code",
   "execution_count": null,
   "id": "ad67b1a9",
   "metadata": {},
   "outputs": [],
   "source": [
    "ANIM_YEARS = sorted(analysis_years)\n",
    "FRAMES_DIR = os.path.join(OUT_DIR, 'frames')\n",
    "os.makedirs(FRAMES_DIR, exist_ok=True)\n",
    "\n",
    "def make_frame_for_year(year, top_n=20):\n",
    "    # Create a combined figure showing top-N bar and a small inset global average marker\n",
    "    topn = top_n_by_year(df_long, year, n=top_n)\n",
    "    fig = make_subplots(rows=1, cols=2, column_widths=[0.7, 0.3], specs=[[{\"type\":\"xy\"}, {\"type\":\"xy\"}]])\n",
    "    bar = go.Bar(x=topn['country'], y=topn['gdp'], marker_color='rgb(179,205,227)', name=f'Top {top_n}')\n",
    "    fig.add_trace(bar, row=1, col=1)\n",
    "    # Inset: global average point\n",
    "    ga = global_avg[global_avg['year']==year]['gdp'].values\n",
    "    ga_val = float(ga[0]) if len(ga)>0 else None\n",
    "    if ga_val is not None:\n",
    "        fig.add_trace(go.Scatter(x=[0], y=[ga_val], mode='markers+text', text=[f'Global avg: {ga_val:,.0f}'], textposition='top center', marker=dict(size=12, color='rgb(204,235,197)')), row=1, col=2)\n",
    "    fig.update_layout(title_text=f'GDP snapshot - {year}', showlegend=False, template='simple_white')\n",
    "    fig.update_xaxes(tickangle=45, row=1, col=1)\n",
    "    return fig\n",
    "\n",
    "frame_paths = []\n",
    "if _HAS_KALEIDO and _HAS_IMAGEIO:\n",
    "    print('kaleido and imageio present; exporting frames to PNG and stitching to MP4')\n",
    "    for y in ANIM_YEARS:\n",
    "        fig = make_frame_for_year(y, top_n=20)\n",
    "        frame_path = os.path.join(FRAMES_DIR, f'frame_{y}.png')\n",
    "        try:\n",
    "            fig.write_image(frame_path, engine='kaleido', width=1280, height=720)\n",
    "            print('Wrote frame', frame_path)\n",
    "            frame_paths.append(frame_path)\n",
    "        except Exception as e:\n",
    "            print('Error writing frame with kaleido:', e)\n",
    "    # Stitch frames to mp4\n",
    "    mp4_path = os.path.join(OUT_DIR, 'gdp_animation.mp4')\n",
    "    try:\n",
    "        with imageio.get_writer(mp4_path, fps=1) as writer:\n",
    "            for fp in frame_paths:\n",
    "                img = imageio.imread(fp)\n",
    "                writer.append_data(img)\n",
    "        print('Saved animation to', mp4_path)\n",
    "    except Exception as e:\n",
    "        print('Failed to write MP4 via imageio:', e)\n",
    "else:\n",
    "    print('kaleido or imageio missing. Creating interactive frame-based HTML animation fallback.')\n",
    "    # Create a Plotly animation (interactive) using frames and save HTML\n",
    "    # Build a dataframe for animation (top 20 per year) and animate by year as a bar chart race\n",
    "    \n",
    "    anim_df_list = []\n",
    "    for y in ANIM_YEARS:\n",
    "        tmp = top_n_by_year(df_long, y, n=20).copy()\n",
    "        tmp['year'] = y\n",
    "        anim_df_list.append(tmp)\n",
    "    anim_df = pd.concat(anim_df_list, ignore_index=True)\n",
    "    fig_anim = px.bar(anim_df, x='country', y='gdp', color='country', animation_frame='year', range_y=[0, anim_df['gdp'].max()*1.05],\n",
    "                      title='GDP Top-20 - animation (interactive)')\n",
    "    anim_html = os.path.join(OUT_DIR, 'gdp_animation_interactive.html')\n",
    "    fig_anim.write_html(anim_html)\n",
    "    print('Saved interactive animation to', anim_html)\n",
    "    fig_anim"
   ]
  },
  {
   "cell_type": "markdown",
   "id": "96ff3c16",
   "metadata": {},
   "source": [
    "If frames were created and stitched to MP4 above, the video will be saved under `/kaggle/working/gdp_animation.mp4`. If not, an interactive HTML animation has been created as a fallback."
   ]
  },
  {
   "cell_type": "code",
   "execution_count": null,
   "id": "e07ec57e",
   "metadata": {},
   "outputs": [],
   "source": [
    "# Display mp4 if exists, otherwise show interactive animation HTML path\n",
    "from IPython.display import HTML, display\n",
    "mp4_path = os.path.join(OUT_DIR, 'gdp_animation.mp4')\n",
    "interactive_path = os.path.join(OUT_DIR, 'gdp_animation_interactive.html')\n",
    "if os.path.exists(mp4_path):\n",
    "    print('Displaying MP4:')\n",
    "    display(HTML(f\"<video width=800 controls><source src='{mp4_path}' type='video/mp4'></video>\"))\n",
    "elif os.path.exists(interactive_path):\n",
    "    print('Interactive animation HTML available at:', interactive_path)\n",
    "    display(HTML(f\"<a href='{interactive_path}' target='_blank'>Open interactive animation</a>\"))\n",
    "else:\n",
    "    print('No animation output found. Check previous cell logs for issues (kaleido/imageio availability).')"
   ]
  },
  {
   "cell_type": "markdown",
   "id": "26bf1621",
   "metadata": {},
   "source": [
    "## Save outputs & reproducibility\n",
    "\n",
    "- Save cleaned long-format CSV to `/kaggle/working/df_long.csv`.\n",
    "- Already saved interactive HTMLs for key figures under `/kaggle/working/`.\n",
    "- If frames were generated, they are under `/kaggle/working/frames/` and the final MP4 is `/kaggle/working/gdp_animation.mp4`."
   ]
  },
  {
   "cell_type": "code",
   "execution_count": null,
   "id": "e67177b5",
   "metadata": {},
   "outputs": [],
   "source": [
    "clean_csv_path = os.path.join(OUT_DIR, 'df_long.csv')\n",
    "df_long_clean.to_csv(clean_csv_path, index=False)\n",
    "print('Saved cleaned long-format CSV to', clean_csv_path)\n",
    "\n",
    "# Summarize saved files\n",
    "saved_files = [os.path.join(OUT_DIR, p) for p in os.listdir(OUT_DIR) if p.endswith('.html') or p.endswith('.csv') or p.endswith('.mp4')]\n",
    "print('Saved output files:')\n",
    "for f in saved_files:\n",
    "    print('-', f)"
   ]
  },
  {
   "cell_type": "markdown",
   "id": "31817bd5",
   "metadata": {},
   "source": [
    "## Final Results & Business Insights\n",
    "\n",
    "- **Top economies dominate absolute GDP:** The top 10 countries account for a large share of global GDP; use per-capita or PPP normalization to compare productivity.\n",
    "- **High year-to-year correlation:** GDP values are highly correlated year-to-year; large changes usually indicate real shocks or data/re-basing.\n",
    "- **Missing data matters:** Several countries are dropped from animations due to >30% missing years—this should be flagged if running automated reports.\n",
    "- **Follow-ups:** Merge population for GDP per capita, integrate inflation / exchange-rate adjustments, and add more historical years for robust forecasting.\n",
    "- **Forecasting caveat:** 6 annual points (2020–2025) are short for strong forecasting — consider longer time series for temporal models like Prophet or ARIMA."
   ]
  },
  {
   "cell_type": "markdown",
   "id": "dd8840c1",
   "metadata": {},
   "source": [
    "## Reproducibility / README\n",
    "\n",
    "To reproduce fully:\n",
    "1. Ensure the dataset CSV is available under `/kaggle/input/<dataset>/` or update the path in the loading cell.\n",
    "2. (Optional) Install `kaleido` and `imageio-ffmpeg` if you want per-frame PNG export and MP4 output:\n",
    "   - `!pip install kaleido imageio imageio-ffmpeg`\n",
    "3. Run notebook top-to-bottom. Exporting frames and writing MP4 may take a few minutes depending on CPU.\n",
    "\n",
    "Extension ideas:\n",
    "- Add population data to compute GDP per capita and re-run the visualizations.\n",
    "- Add regional grouping and produce side-by-side choropleths.\n",
    "- Implement clustering by GDP growth patterns and annotate clusters in visuals."
   ]
  },
  {
   "cell_type": "markdown",
   "id": "7c860b20",
   "metadata": {},
   "source": [
    "### Notebook generation completed.\n",
    "\n",
    "If you want, I can now:\n",
    "- Write this notebook JSON to a file under your workspace (please confirm filepath), or\n",
    "- Add a Streamlit app version that exposes these visualizations as an interactive dashboard."
   ]
  }
 ],
 "metadata": {
  "language_info": {
   "name": "python"
  }
 },
 "nbformat": 4,
 "nbformat_minor": 5
}
