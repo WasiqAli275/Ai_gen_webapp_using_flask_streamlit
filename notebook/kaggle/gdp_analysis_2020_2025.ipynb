{
 "cells": [
  {
   "cell_type": "markdown",
   "id": "059f15ba",
   "metadata": {},
   "source": [
    "# Frequent GDP Analysis (2020–2025) — Interactive Notebook\n",
    "\n",
    "This notebook performs an end-to-end interactive analysis of the Kaggle dataset \"GDP per country (2020–2025)\" (https://www.kaggle.com/datasets/codebynadiia/gdp-per-country-20202025/data).\n",
    "\n",
    "Goals:\n",
    "- Load the dataset automatically from `/kaggle/input` (or accept a downloaded CSV) and coerce it to a consistent long format (columns: `country`, `year`, `gdp`).\n",
    "- Explore the data with interactive visualizations (Matplotlib/Seaborn/Altair).\n",
    "- Compute growth metrics (YoY, CAGR) and create a year-by-year animation saved as `/kaggle/working/gdp_animation.mp4` (and a GIF).\n",
    "\n",
    "Notes:\n",
    "- All visualizations use Matplotlib/Seaborn/Altair (Plotly removed). Light/pastel palettes are used for pleasant visuals.\n",
    "- Outputs (clean CSV, PNG frames, final MP4) are saved under `/kaggle/working/`.\n",
    "\n",
    "Estimated runtime for full export (frames + mp4): ~1–5 minutes depending on environment and whether `imageio-ffmpeg` is available."
   ]
  },
  {
   "cell_type": "markdown",
   "id": "aba4f3a0",
   "metadata": {},
   "source": [
    "## How to run\n",
    "\n",
    "- Run cells top-to-bottom in a Kaggle/Colab/Jupyter environment.\n",
    "- If running outside Kaggle, ensure you have the dataset CSV available and placed somewhere accessible; the notebook auto-searches `/kaggle/input` first.\n",
    "- If `kaleido` or `imageio-ffmpeg` are not installed and you want to export PNG frames and MP4, uncomment the pip install lines in the \"Install checks\" cell.\n",
    "- Sampling: heavy visuals sample up to 2,500 countries/rows for performance (stable reproducible sampling with `RANDOM_STATE = 42`)."
   ]
  },
  {
   "cell_type": "code",
   "execution_count": null,
   "id": "3bfb7885",
   "metadata": {},
   "outputs": [],
   "source": [
    "# Environment & Imports\n",
    "import sys\n",
    "import os\n",
    "import math\n",
    "import glob\n",
    "import json\n",
    "import warnings\n",
    "warnings.filterwarnings('ignore')\n",
    "\n",
    "import pandas as pd\n",
    "import numpy as np\n",
    "import matplotlib.pyplot as plt\n",
    "import seaborn as sns\n",
    "from matplotlib import cm\n",
    "from matplotlib.animation import FuncAnimation\n",
    "\n",
    "# Optional interactive library\n",
    "try:\n",
    "    import altair as alt\n",
    "    _HAS_ALTAIR = True\n",
    "except Exception:\n",
    "    _HAS_ALTAIR = False\n",
    "\n",
    "# Image/FFmpeg libraries\n",
    "try:\n",
    "    import imageio\n",
    "    _HAS_IMAGEIO = True\n",
    "except Exception:\n",
    "    _HAS_IMAGEIO = False\n",
    "\n",
    "from sklearn.cluster import KMeans\n",
    "from sklearn.preprocessing import StandardScaler\n",
    "\n",
    "RANDOM_STATE = 42\n",
    "\n",
    "# Print versions\n",
    "import sklearn\n",
    "versions = {\n",
    "    'python': sys.version.split()[0],\n",
    "    'pandas': getattr(pd, '__version__', 'unknown'),\n",
    "    'numpy': getattr(np, '__version__', 'unknown'),\n",
    "    'matplotlib': getattr(plt, '__version__', 'unknown'),\n",
    "    'seaborn': getattr(sns, '__version__', 'unknown'),\n",
    "    'altair': 'installed' if _HAS_ALTAIR else 'missing',\n",
    "    'imageio': 'installed' if _HAS_IMAGEIO else 'missing',\n",
    "    'scikit-learn': getattr(sklearn, '__version__', 'unknown')\n",
    "}\n",
    "print('Library versions:')\n",
    "for k, v in versions.items():\n",
    "    print(f\"- {k}: {v}\")\n",
    "\n",
    "# Seaborn style (pastel/light)\n",
    "sns.set_theme(style='whitegrid', palette='pastel')\n",
    "plt.rcParams['figure.figsize'] = (10,6)"
   ]
  },
  {
   "cell_type": "markdown",
   "id": "9c3830c6",
   "metadata": {},
   "source": [
    "### Install checks (optional)\n",
    "\n",
    "If you need image export (PNG frames) and MP4 creation, ensure `kaleido` and `imageio-ffmpeg` are installed.\n",
    "Uncomment and run the commands below in an environment where installing packages is allowed."
   ]
  },
  {
   "cell_type": "code",
   "execution_count": null,
   "id": "e4559efb",
   "metadata": {},
   "outputs": [],
   "source": [
    "# Example installs (do NOT run in restricted environments unless you want to install packages):\n",
    "# !pip install imageio imageio-ffmpeg altair\n",
    "print('imageio available:', _HAS_IMAGEIO)\n",
    "print('altair available:', _HAS_ALTAIR)"
   ]
  },
  {
   "cell_type": "markdown",
   "id": "1d00463d",
   "metadata": {},
   "source": [
    "## Load & Inspect Data\n",
    "\n",
    "This cell attempts to auto-detect CSV files under `/kaggle/input` and load the most likely main CSV. If no CSV is found, it will print a clear message so you can place the CSV manually or provide a path."
   ]
  },
  {
   "cell_type": "code",
   "execution_count": null,
   "id": "de5a82a2",
   "metadata": {},
   "outputs": [],
   "source": [
    "# Auto-detect CSV under /kaggle/input (recursive search)\n",
    "def find_csvs(base_path='/kaggle/input'):\n",
    "    csv_paths = []\n",
    "    if not os.path.exists(base_path):\n",
    "        return csv_paths\n",
    "    for root, dirs, files in os.walk(base_path):\n",
    "        for f in files:\n",
    "            if f.lower().endswith('.csv'):\n",
    "                csv_paths.append(os.path.join(root, f))\n",
    "    return csv_paths\n",
    "\n",
    "csv_files = find_csvs('/kaggle/input')\n",
    "print('Found CSVs (sample up to 10):')\n",
    "for p in csv_files[:10]:\n",
    "    print('-', p)\n",
    "\n",
    "df = None\n",
    "if csv_files:\n",
    "    # Heuristic: pick the largest CSV (most rows) as the main table\n",
    "    sizes = [(p, os.path.getsize(p)) for p in csv_files]\n",
    "    sizes.sort(key=lambda x: x[1], reverse=True)\n",
    "    candidate = sizes[0][0]\n",
    "    print('\\nLoading candidate CSV:', candidate)\n",
    "    try:\n",
    "        df = pd.read_csv(candidate)\n",
    "    except Exception as e:\n",
    "        print('CSV load failed:', e)\n",
    "        # fallback: try pandas read_table\n",
    "        try:\n",
    "            df = pd.read_table(candidate)\n",
    "        except Exception as e2:\n",
    "            print('Fallback read_table failed:', e2)\n",
    "\n",
    "if df is None:\n",
    "    print('\\nNo CSV found under /kaggle/input or load failed.\\nPlease download the Kaggle dataset and place the CSV under /kaggle/input/<dataset>/ or set a path manually and re-run this cell.')\n",
    "else:\n",
    "    print('\\ndf.shape =>', df.shape)\n",
    "    display(df.head())\n",
    "    print('\\nColumns:')\n",
    "    print(list(df.columns))"
   ]
  },
  {
   "cell_type": "markdown",
   "id": "e9a14dc9",
   "metadata": {},
   "source": [
    "## Normalize Data Format (wide ↔ long)\n",
    "\n",
    "This cell detects whether the data is in wide format (year columns like `2020`, `2021` or `GDP_2020`), or long format (rows for `country`, `year`, `gdp`). It standardizes to `df_long` with three columns: `country`, `year` (int), `gdp` (float).\n",
    "\n",
    "Missing and malformed rows are handled, and a diagnostic markdown summary is printed."
   ]
  },
  {
   "cell_type": "code",
   "execution_count": null,
   "id": "616484a1",
   "metadata": {},
   "outputs": [],
   "source": [
    "# Normalize to long format with columns: country, year, gdp\n",
    "def normalize_gdp_dataframe(df_raw):\n",
    "    df_work = df_raw.copy()\n",
    "    # Standardize column names to strings\n",
    "    df_work.columns = [str(c).strip() for c in df_work.columns]\n",
    "    cols = df_work.columns.tolist()\n",
    "\n",
    "    # Heuristics to find country column name\n",
    "    country_col_candidates = [c for c in cols if c.lower() in ('country', 'country_name', 'countryname', 'country/region', 'countries')]\n",
    "    if country_col_candidates:\n",
    "        country_col = country_col_candidates[0]\n",
    "    else:\n",
    "        # fallback: pick first non-year string column\n",
    "        non_year_cols = [c for c in cols if not (c.strip().lstrip('GDP_').replace('_','').isdigit() or c.strip().isdigit())]\n",
    "        country_col = non_year_cols[0] if non_year_cols else cols[0]\n",
    "\n",
    "    # Detect year-like columns (e.g. '2020', '2021', 'GDP_2020', '2020_gdp')\n",
    "    year_like = []\n",
    "    for c in cols:\n",
    "        token = c.strip()\n",
    "        # direct numeric year\n",
    "        if token.isdigit() and 1900 <= int(token) <= 2100:\n",
    "            year_like.append(c)\n",
    "            continue\n",
    "        # patterns like GDP_2020 or gdp2020\n",
    "        import re\n",
    "        m = re.search(r\"(19|20)\\d{2}\", token)\n",
    "        if m:\n",
    "            year_like.append(c)\n",
    "    \n",
    "    # Decide wide vs long\n",
    "    if year_like and len(year_like) >= 2:\n",
    "        detected_format = 'wide'\n",
    "        # melt keeping country_col\n",
    "        id_vars = [country_col]\n",
    "        df_melt = df_work.melt(id_vars=id_vars, value_vars=year_like, var_name='year_raw', value_name='gdp_raw')\n",
    "        # Extract year integer\n",
    "        def extract_year(x):\n",
    "            import re\n",
    "            s = str(x)\n",
    "            m = re.search(r\"(19|20)\\d{2}\", s)\n",
    "            return int(m.group(0)) if m else None\n",
    "        df_melt['year'] = df_melt['year_raw'].apply(extract_year)\n",
    "        df_melt.rename(columns={country_col: 'country'}, inplace=True)\n",
    "        df_melt['gdp'] = pd.to_numeric(df_melt['gdp_raw'], errors='coerce')\n",
    "        df_long = df_melt[['country','year','gdp']].copy()\n",
    "    else:\n",
    "        # Try to detect long format\n",
    "        possible_year_cols = [c for c in cols if c.lower() in ('year','yr')]\n",
    "        possible_gdp_cols = [c for c in cols if c.lower() in ('gdp','gdp_value','gdp_usd','gdp_usd_millions')]\n",
    "        if possible_year_cols and possible_gdp_cols:\n",
    "            detected_format = 'long'\n",
    "            df2 = df_work.rename(columns={possible_year_cols[0]: 'year', possible_gdp_cols[0]: 'gdp'})\n",
    "            df2 = df2.rename(columns={country_col: 'country'})\n",
    "            df2['year'] = pd.to_numeric(df2['year'], errors='coerce')\n",
    "            df2['gdp'] = pd.to_numeric(df2['gdp'], errors='coerce')\n",
    "            df_long = df2[['country','year','gdp']].copy()\n",
    "        else:\n",
    "            # Try common wide layout where years are column names directly like '2020','2021'\n",
    "            year_cols = [c for c in cols if c.strip().isdigit() and 1900 <= int(c.strip()) <= 2100]\n",
    "            if year_cols:\n",
    "                detected_format = 'wide'\n",
    "                df_melt = df_work.melt(id_vars=[country_col], value_vars=year_cols, var_name='year', value_name='gdp')\n",
    "                df_melt.rename(columns={country_col: 'country'}, inplace=True)\n",
    "                df_melt['year'] = pd.to_numeric(df_melt['year'], errors='coerce')\n",
    "                df_melt['gdp'] = pd.to_numeric(df_melt['gdp'], errors='coerce')\n",
    "                df_long = df_melt[['country','year','gdp']].copy()\n",
    "            else:\n",
    "                # Last fallback: try to find probable year and gdp columns heuristically\n",
    "                detected_format = 'unknown'\n",
    "                # attempt to find any column with years inside values\n",
    "                # If nothing else, return an empty normalized dataframe\n",
    "                df_long = pd.DataFrame(columns=['country','year','gdp'])\n",
    "\n",
    "    # Clean country names\n",
    "    if not df_long.empty:\n",
    "        df_long['country'] = df_long['country'].astype(str).str.strip()\n",
    "        df_long = df_long.dropna(subset=['country'])\n",
    "        df_long['year'] = pd.to_numeric(df_long['year'], errors='coerce').astype('Int64')\n",
    "        df_long['gdp'] = pd.to_numeric(df_long['gdp'], errors='coerce')\n",
    "        df_long = df_long.dropna(subset=['year'])\n",
    "        df_long['year'] = df_long['year'].astype(int)\n",
    "    \n",
    "    return df_long, detected_format\n",
    "\n",
    "df_long = None\n",
    "detected_format = None\n",
    "if df is not None:\n",
    "    df_long, detected_format = normalize_gdp_dataframe(df)\n",
    "    print('Detected format:', detected_format)\n",
    "    print('df_long.shape =>', df_long.shape)\n",
    "    display(df_long.head())\n",
    "    # Show available years\n",
    "    print('Years present (sample):', sorted(df_long['year'].unique())[:20])"
   ]
  },
  {
   "cell_type": "markdown",
   "id": "43d0c642",
   "metadata": {},
   "source": [
    "### Post-normalization checks & enforcement of 2020..2025\n",
    "\n",
    "Ensure `year` contains the expected range 2020–2025. If the dataset has a wider range or year parsing issues, we coerce and warn."
   ]
  },
  {
   "cell_type": "code",
   "execution_count": null,
   "id": "1db3ab7f",
   "metadata": {},
   "outputs": [],
   "source": [
    "REQUIRED_YEARS = list(range(2020, 2026))\n",
    "if df_long is None or df_long.empty:\n",
    "    raise RuntimeError('No normalized data available. Please check the dataset file and re-run the previous cells.')\n",
    "\n",
    "present_years = sorted(df_long['year'].unique())\n",
    "print('Present years in data:', present_years)\n",
    "missing_required = [y for y in REQUIRED_YEARS if y not in present_years]\n",
    "if missing_required:\n",
    "    print('\\nWarning: expected years 2020..2025 not all present. Missing:', missing_required)\n",
    "    # If years outside this range exist, we keep them but later we will restrict animation to 2020..2025 if any of these are present.\n",
    "else:\n",
    "    print('\\nAll required years (2020..2025) are present.')"
   ]
  },
  {
   "cell_type": "markdown",
   "id": "001cfb9b",
   "metadata": {},
   "source": [
    "## Handle Missing Values & Interpolation Strategy\n",
    "\n",
    "Strategy implemented:\n",
    "- For each country, compute the proportion of missing years (within the YEAR RANGE present). If >30% missing, drop country from animations/trend analysis (we still keep it in the cleaned CSV but mark it).\n",
    "- For remaining countries, linearly interpolate small gaps across years and forward/backfill only at the edges if necessary.\n",
    "- Document dropped countries and reasons."
   ]
  },
  {
   "cell_type": "code",
   "execution_count": null,
   "id": "62d1feda",
   "metadata": {},
   "outputs": [],
   "source": [
    "# Build a complete grid of country x year for required years (2020..2025) to evaluate missingness\n",
    "countries = sorted(df_long['country'].unique())\n",
    "years_all = sorted(df_long['year'].unique())\n",
    "\n",
    "# We'll create df_grid which contains all country-year combos for the years we have in the dataset\n",
    "year_min, year_max = min(years_all), max(years_all)\n",
    "grid_years = list(range(year_min, year_max+1))\n",
    "grid = pd.MultiIndex.from_product([countries, grid_years], names=['country','year']).to_frame(index=False)\n",
    "df_full = pd.merge(grid, df_long, on=['country','year'], how='left')\n",
    "\n",
    "# Compute missingness per country for the YEARS RANGE we will analyze (restrict to 2020..2025 intersection)\n",
    "analysis_years = [y for y in REQUIRED_YEARS if y >= year_min and y <= year_max]\n",
    "print('Analysis years used:', analysis_years)\n",
    "\n",
    "def country_missing_stats(df_full, analysis_years):\n",
    "    stats = []\n",
    "    for c in df_full['country'].unique():\n",
    "        sub = df_full[(df_full['country']==c) & (df_full['year'].isin(analysis_years))]\n",
    "        total = len(analysis_years)\n",
    "        missing = sub['gdp'].isna().sum()\n",
    "        stats.append({'country': c, 'total_years': total, 'missing_years': int(missing), 'missing_pct': missing/total if total>0 else 1.0})\n",
    "    return pd.DataFrame(stats)\n",
    "\n",
    "missing_stats = country_missing_stats(df_full, analysis_years)\n",
    "dropped_countries = missing_stats[missing_stats['missing_pct'] > 0.3]['country'].tolist()\n",
    "print('Countries dropped from trend/animation due to >30% missing years (count={}):'.format(len(dropped_countries)))\n",
    "print(dropped_countries[:20])\n",
    "\n",
    "# Interpolate small gaps for remaining countries\n",
    "keep_countries = [c for c in countries if c not in dropped_countries]\n",
    "df_interp = df_full[df_full['country'].isin(keep_countries)].copy()\n",
    "df_interp = df_interp.sort_values(['country','year'])\n",
    "\n",
    "# Linear interpolation per country across the full year range we have (not restricted to 2020..2025 to preserve continuity)\n",
    "def interp_group(g):\n",
    "    g = g.set_index('year').sort_index()\n",
    "    # Interpolate only if at least two numeric values exist\n",
    "    if g['gdp'].count() >= 2:\n",
    "        g['gdp'] = g['gdp'].interpolate(method='linear', limit_direction='both')\n",
    "    else:\n",
    "        # insufficient data; leave as is\n",
    "        pass\n",
    "    g = g.reset_index()\n",
    "    return g\n",
    "\n",
    "df_interp = df_interp.groupby('country', group_keys=False).apply(interp_group).reset_index(drop=True)\n",
    "\n",
    "# Mark dropped countries in the full df_long as well for CSV output\n",
    "df_long_clean = df_long.copy()\n",
    "df_long_clean['dropped_for_animation'] = df_long_clean['country'].isin(dropped_countries)\n",
    "\n",
    "print('After interpolation, sample:')\n",
    "display(df_interp.head())"
   ]
  },
  {
   "cell_type": "markdown",
   "id": "b7a6b0fb",
   "metadata": {},
   "source": [
    "## Summary Stats & Quick EDA\n",
    "\n",
    "Compute key summary statistics and show top-10 countries by average GDP (2020–2025). We'll save the top-10 bar chart as an interactive HTML."
   ]
  },
  {
   "cell_type": "code",
   "execution_count": null,
   "id": "0f9fcf9e",
   "metadata": {},
   "outputs": [],
   "source": [
    "# Compute stats for analysis years (intersection)\n",
    "df_analysis = df_long_clean[df_long_clean['year'].isin(analysis_years)].copy()\n",
    "grouped = df_analysis.groupby('country', as_index=False)['gdp'].mean()\n",
    "grouped = grouped.rename(columns={'gdp':'gdp_avg'})\n",
    "top10 = grouped.sort_values('gdp_avg', ascending=False).head(10)\n",
    "print('Top 10 countries by average GDP ({} years):'.format(len(analysis_years)))\n",
    "display(top10)\n",
    "\n",
    "# Matplotlib pastel bar chart - save as PNG\n",
    "OUT_DIR = '/kaggle/working'\n",
    "os.makedirs(os.path.join(OUT_DIR, 'frames'), exist_ok=True)\n",
    "fig, ax = plt.subplots(figsize=(12,6))\n",
    "ax.bar(top10['country'], top10['gdp_avg'], color=sns.color_palette('pastel', n_colors=10))\n",
    "ax.set_title(f'Top 10 countries by average GDP ({min(analysis_years)}-{max(analysis_years)})')\n",
    "ax.set_ylabel('Average GDP')\n",
    "plt.xticks(rotation=45, ha='right')\n",
    "top10_png = os.path.join(OUT_DIR, 'fig_top10_avg.png')\n",
    "fig.savefig(top10_png, bbox_inches='tight', dpi=150)\n",
    "print('Saved top10 PNG to', top10_png)\n",
    "plt.show()"
   ]
  },
  {
   "cell_type": "markdown",
   "id": "15d4690f",
   "metadata": {},
   "source": [
    "Interpretation:\n",
    "\n",
    "- The bar chart above shows the top 10 countries by average GDP across the analysis years. Large economies appear at the top; this chart helps identify the dominant economies in absolute terms. Note: using absolute GDP favors large-population / large-economy countries; per-capita normalization is recommended for fairness."
   ]
  },
  {
   "cell_type": "markdown",
   "id": "e3cc91bd",
   "metadata": {},
   "source": [
    "## Distribution & Yearly Histograms\n",
    "\n",
    "We create histograms for each analysis year (2020..2025 intersection). For consistency we use the same bin edges across years and pastel colors. If the dataset is extremely large, we sample to 2500 rows for plotting performance."
   ]
  },
  {
   "cell_type": "code",
   "execution_count": null,
   "id": "17e4bae9",
   "metadata": {},
   "outputs": [],
   "source": [
    "MAX_SAMPLE = 2500\n",
    "df_for_hist = df_analysis.copy()\n",
    "if len(df_for_hist) > MAX_SAMPLE:\n",
    "    df_for_hist = df_for_hist.sample(n=MAX_SAMPLE, random_state=RANDOM_STATE)\n",
    "\n",
    "gdp_vals = df_for_hist['gdp'].dropna()\n",
    "bins = np.histogram_bin_edges(gdp_vals, bins='auto')\n",
    "\n",
    "hist_pngs = []\n",
    "for y in analysis_years:\n",
    "    sub = df_for_hist[df_for_hist['year']==y]\n",
    "    fig, ax = plt.subplots(figsize=(10,5))\n",
    "    sns.histplot(sub['gdp'].dropna(), bins=bins, ax=ax, color=sns.color_palette('pastel')[0], kde=False)\n",
    "    ax.set_title(f'GDP distribution - {y}')\n",
    "    ax.set_xlabel('GDP')\n",
    "    hist_path = os.path.join(OUT_DIR, f'fig_hist_{y}.png')\n",
    "    fig.savefig(hist_path, bbox_inches='tight', dpi=150)\n",
    "    hist_pngs.append(hist_path)\n",
    "    print('Saved', hist_path)\n",
    "    plt.show()"
   ]
  },
  {
   "cell_type": "markdown",
   "id": "11177cf3",
   "metadata": {},
   "source": [
    "Interpretation:\n",
    "\n",
    "- These histograms show GDP distribution for each year. Expect right-skew: a few very large GDPs (USA, China) and many smaller economies. Look for changes in spread and tail behavior year-to-year; sudden shifts usually indicate data issues or re-basing."
   ]
  },
  {
   "cell_type": "markdown",
   "id": "dd524692",
   "metadata": {},
   "source": [
    "## Pair Plot / Scatter Matrix\n",
    "\n",
    "We pivot countries into columns for the year-wise GDP values and build a scatter matrix for pairwise relationships across years. We sample up to 2500 countries/rows to keep interactivity responsive."
   ]
  },
  {
   "cell_type": "code",
   "execution_count": null,
   "id": "ef261bb7",
   "metadata": {},
   "outputs": [],
   "source": [
    "# Pivot: countries as rows, years as columns\n",
    "pivot = df_long.pivot_table(index='country', columns='year', values='gdp')\n",
    "pivot_cols = [c for c in pivot.columns if c in analysis_years]\n",
    "pivot_sub = pivot[pivot_cols].dropna(axis=0, how='any')  # only countries with full data for analysis years\n",
    "print('Pivot shape (countries x years):', pivot_sub.shape)\n",
    "\n",
    "pivot_for_matrix = pivot_sub.reset_index()\n",
    "if len(pivot_for_matrix) > MAX_SAMPLE:\n",
    "    pivot_for_matrix = pivot_for_matrix.sample(n=MAX_SAMPLE, random_state=RANDOM_STATE)\n",
    "\n",
    "if len(pivot_for_matrix.columns) >= 3:\n",
    "    sns_pair = pivot_for_matrix[pivot_cols].copy()\n",
    "    sns_pair.columns = [str(c) for c in sns_pair.columns]\n",
    "    try:\n",
    "        g = sns.pairplot(sns_pair, diag_kind='kde', plot_kws={'s':20, 'alpha':0.6}, corner=False)\n",
    "        pair_png = os.path.join(OUT_DIR, 'fig_pairplot.png')\n",
    "        g.fig.suptitle('Scatter matrix (pairplot) across years', y=1.02)\n",
    "        g.fig.savefig(pair_png, bbox_inches='tight', dpi=150)\n",
    "        print('Saved pairplot to', pair_png)\n",
    "        plt.show()\n",
    "    except Exception as e:\n",
    "        print('Pairplot failed:', e)\n",
    "else:\n",
    "    print('Not enough year-columns for pairplot (need at least 3 year columns).')"
   ]
  },
  {
   "cell_type": "markdown",
   "id": "fee6c5d4",
   "metadata": {},
   "source": [
    "Interpretation:\n",
    "\n",
    "- The scatter matrix helps detect strong linear relationships between GDPs across years. High correlation across adjacent years is expected for GDP; look for weak correlations that might indicate outliers or data inconsistency."
   ]
  },
  {
   "cell_type": "markdown",
   "id": "09027523",
   "metadata": {},
   "source": [
    "## Correlation Heatmap (years correlation)\n",
    "\n",
    "Compute a correlation matrix among years (countries are observations). For performance, limit to top-25 countries by average GDP."
   ]
  },
  {
   "cell_type": "code",
   "execution_count": null,
   "id": "c037ac1b",
   "metadata": {},
   "outputs": [],
   "source": [
    "top25_countries = grouped.sort_values('gdp_avg', ascending=False).head(25)['country'].tolist()\n",
    "pivot_top25 = pivot.loc[top25_countries, pivot_cols]\n",
    "corr = pivot_top25.transpose().corr()\n",
    "fig, ax = plt.subplots(figsize=(10,8))\n",
    "sns.heatmap(corr, annot=True, fmt='.2f', cmap='coolwarm', ax=ax)\n",
    "ax.set_title('Correlation across years (top 25 countries)')\n",
    "heatmap_png = os.path.join(OUT_DIR, 'fig_corr_heatmap.png')\n",
    "fig.savefig(heatmap_png, bbox_inches='tight', dpi=150)\n",
    "print('Saved heatmap to', heatmap_png)\n",
    "plt.show()"
   ]
  },
  {
   "cell_type": "markdown",
   "id": "5b6cae90",
   "metadata": {},
   "source": [
    "Interpretation:\n",
    "\n",
    "- Heatmap shows very high correlations across adjacent years for GDP; this is typical for annual GDP values. Low-correlation cells indicate countries that changed more dramatically."
   ]
  },
  {
   "cell_type": "markdown",
   "id": "55324200",
   "metadata": {},
   "source": [
    "## Subplots Example (global average, distribution boxplot, top-5 lines)\n",
    "Create a multi-panel interactive Plotly figure combining three perspectives."
   ]
  },
  {
   "cell_type": "code",
   "execution_count": null,
   "id": "c5470a11",
   "metadata": {},
   "outputs": [],
   "source": [
    "# Global average across years\n",
    "global_avg = df_analysis.groupby('year')['gdp'].mean().reset_index()\n",
    "\n",
    "# Boxplot data preparation\n",
    "df_box = df_analysis.copy()\n",
    "\n",
    "# Top-5 countries lines\n",
    "top5 = grouped.sort_values('gdp_avg', ascending=False).head(5)['country'].tolist()\n",
    "df_top5 = df_long[df_long['country'].isin(top5)].sort_values(['country','year'])\n",
    "\n",
    "fig, axes = plt.subplots(3,1, figsize=(12,14), sharex=True)\n",
    "# Panel 1: global average line\n",
    "axes[0].plot(global_avg['year'], global_avg['gdp'], marker='o', color=sns.color_palette('pastel')[2])\n",
    "axes[0].set_title('Global average GDP (years)')\n",
    "axes[0].set_ylabel('GDP')\n",
    "# Panel 2: boxplot per year\n",
    "sns.boxplot(x='year', y='gdp', data=df_box, ax=axes[1], palette='pastel')\n",
    "axes[1].set_title('GDP distribution per year (boxplot)')\n",
    "# Panel 3: top-5 lines\n",
    "for c in top5:\n",
    "    tmp = df_top5[df_top5['country']==c]\n",
    "    axes[2].plot(tmp['year'], tmp['gdp'], marker='o', label=c)\n",
    "axes[2].set_title('Top-5 countries - GDP over time')\n",
    "axes[2].legend()\n",
    "plt.tight_layout()\n",
    "subplots_png = os.path.join(OUT_DIR, 'fig_subplots.png')\n",
    "fig.savefig(subplots_png, bbox_inches='tight', dpi=150)\n",
    "print('Saved subplots to', subplots_png)\n",
    "plt.show()"
   ]
  },
  {
   "cell_type": "markdown",
   "id": "d32be2d5",
   "metadata": {},
   "source": [
    "Interpretation:\n",
    "\n",
    "- The top panel shows the global average GDP over years; the boxplot summarizes per-year distribution and dispersion; the bottom panel shows trend lines for the top-5 economies, highlighting their relative stability or growth."
   ]
  },
  {
   "cell_type": "markdown",
   "id": "49c7d0f6",
   "metadata": {},
   "source": [
    "## Boxplot / Violin per year\n",
    "\n",
    "Interactive boxplots or violins help identify distribution shape and outliers per year."
   ]
  },
  {
   "cell_type": "code",
   "execution_count": null,
   "id": "c9c58a1f",
   "metadata": {},
   "outputs": [],
   "source": [
    "# Boxplot - use seaborn boxplot with year as categorical\n",
    "fig, ax = plt.subplots(figsize=(10,6))\n",
    "sns.boxplot(x='year', y='gdp', data=df_analysis, palette='pastel', ax=ax)\n",
    "ax.set_title('GDP distribution per year (boxplot)')\n",
    "box_png = os.path.join(OUT_DIR, 'fig_box.png')\n",
    "fig.savefig(box_png, bbox_inches='tight', dpi=150)\n",
    "print('Saved boxplot to', box_png)\n",
    "plt.show()"
   ]
  },
  {
   "cell_type": "markdown",
   "id": "cfc31b0b",
   "metadata": {},
   "source": [
    "Interpretation:\n",
    "\n",
    "- Boxplots show central tendency and spread of GDP across countries for each year. Watch for increasing dispersion or new outliers which may signal data issues or real economic divergence."
   ]
  },
  {
   "cell_type": "markdown",
   "id": "a26b4676",
   "metadata": {},
   "source": [
    "## Barplot & Dotplot (selected years)\n",
    "\n",
    "Compare top countries in 2020 vs 2025 (if 2025 exists). We'll create interactive bar and dot plots and save them."
   ]
  },
  {
   "cell_type": "code",
   "execution_count": null,
   "id": "ce54e26e",
   "metadata": {},
   "outputs": [],
   "source": [
    "def top_n_by_year(df_long, year, n=20):\n",
    "    sub = df_long[df_long['year']==year].copy()\n",
    "    sub = sub.dropna(subset=['gdp'])\n",
    "    return sub.sort_values('gdp', ascending=False).head(n)\n",
    "\n",
    "plots_saved = []\n",
    "for y in [min(analysis_years), max(analysis_years)]:\n",
    "    top20 = top_n_by_year(df_long, y, n=20)\n",
    "    # barplot with seaborn/matplotlib\n",
    "    fig, ax = plt.subplots(figsize=(12,6))\n",
    "    sns.barplot(data=top20, x='country', y='gdp', palette='pastel', ax=ax)\n",
    "    ax.set_title(f'Top 20 countries by GDP - {y}')\n",
    "    plt.xticks(rotation=45, ha='right')\n",
    "    path = os.path.join(OUT_DIR, f'fig_top20_{y}.png')\n",
    "    fig.savefig(path, bbox_inches='tight', dpi=150)\n",
    "    plots_saved.append(path)\n",
    "    plt.show()\n",
    "    # dotplot (scatter) - use size mapping\n",
    "    fig, ax = plt.subplots(figsize=(10,8))\n",
    "    sizes = (top20['gdp'] - top20['gdp'].min()) / (top20['gdp'].max() - top20['gdp'].min() + 1e-9) * 300 + 50\n",
    "    ax.scatter(top20['gdp'], top20['country'], s=sizes, color=sns.color_palette('pastel'))\n",
    "    ax.set_xlabel('GDP')\n",
    "    ax.set_title(f'Dotplot - Top 20 GDP - {y}')\n",
    "    path2 = os.path.join(OUT_DIR, f'fig_dot_top20_{y}.png')\n",
    "    fig.savefig(path2, bbox_inches='tight', dpi=150)\n",
    "    plots_saved.append(path2)\n",
    "    plt.show()\n",
    "print('Saved plots:', plots_saved[:6])"
   ]
  },
  {
   "cell_type": "markdown",
   "id": "d7e8bca1",
   "metadata": {},
   "source": [
    "Interpretation:\n",
    "\n",
    "- These visuals make it simple to compare the ranking and relative size of the largest economies in a single year and observe rank changes across years."
   ]
  },
  {
   "cell_type": "markdown",
   "id": "04c883d0",
   "metadata": {},
   "source": [
    "## Pie Chart for top-10 country share (selected year)\n",
    "\n",
    "Create a pie chart for a selected year and group the rest as `Other`."
   ]
  },
  {
   "cell_type": "code",
   "execution_count": null,
   "id": "8c9e6717",
   "metadata": {},
   "outputs": [],
   "source": [
    "def pie_top10(df_long, year):\n",
    "    sub = df_long[df_long['year']==year].dropna(subset=['gdp'])\n",
    "    top10 = sub.sort_values('gdp', ascending=False).head(10).copy()\n",
    "    others = sub[~sub['country'].isin(top10['country'])]['gdp'].sum()\n",
    "    top10 = top10.append({'country':'Other','gdp':others}, ignore_index=True)\n",
    "    fig, ax = plt.subplots(figsize=(8,8))\n",
    "    ax.pie(top10['gdp'], labels=top10['country'], autopct='%1.1f%%', colors=sns.color_palette('pastel', n_colors=len(top10)))\n",
    "    ax.set_title(f'Top-10 share of global GDP - {year}')\n",
    "    return fig\n",
    "\n",
    "year_choice = min(analysis_years)\n",
    "fig = pie_top10(df_long, year_choice)\n",
    "pie_png = os.path.join(OUT_DIR, f'fig_pie_top10_{year_choice}.png')\n",
    "fig.savefig(pie_png, bbox_inches='tight', dpi=150)\n",
    "print('Saved pie to', pie_png)\n",
    "plt.show()"
   ]
  },
  {
   "cell_type": "markdown",
   "id": "b9e9b7e9",
   "metadata": {},
   "source": [
    "Interpretation:\n",
    "\n",
    "- Pie chart emphasizes share concentration; the top 10 countries commonly account for a large portion of global GDP. Use this with caution because pie charts can hide distribution nuances; combine with bar charts for clarity."
   ]
  },
  {
   "cell_type": "markdown",
   "id": "daa20a7d",
   "metadata": {},
   "source": [
    "## 3D Plot (if applicable)\n",
    "\n",
    "If additional numeric columns are present (e.g., GDP per capita or growth rate), we can create a 3D scatter. Otherwise we'll construct a temporal 3D view using `year` as z-axis for a selected subset of countries."
   ]
  },
  {
   "cell_type": "code",
   "execution_count": null,
   "id": "6a063762",
   "metadata": {},
   "outputs": [],
   "source": [
    "# 3D-like plot using matplotlib: surface or scatter with year as x, country index as y, gdp as z (color by country)\n",
    "sample_countries = grouped.sort_values('gdp_avg', ascending=False).head(10)['country'].tolist()\n",
    "df_3d = df_long[df_long['country'].isin(sample_countries)].dropna(subset=['gdp'])\n",
    "# map country to index for Y axis\n",
    "country_to_idx = {c:i for i,c in enumerate(sample_countries)}\n",
    "df_3d['country_idx'] = df_3d['country'].map(country_to_idx)\n",
    "fig = plt.figure(figsize=(12,8))\n",
    "ax = fig.add_subplot(111, projection='3d')\n",
    "for c in sample_countries:\n",
    "    tmp = df_3d[df_3d['country']==c]\n",
    "    ax.plot(tmp['year'], tmp['country_idx'], tmp['gdp'], label=c, marker='o')\n",
    "ax.set_yticks(list(country_to_idx.values()))\n",
    "ax.set_yticklabels(list(country_to_idx.keys()))\n",
    "ax.set_xlabel('Year')\n",
    "ax.set_zlabel('GDP')\n",
    "ax.set_title('3D temporal view (year, country, gdp)')\n",
    "plt.legend()\n",
    "three_d_png = os.path.join(OUT_DIR, 'fig_3d.png')\n",
    "fig.savefig(three_d_png, bbox_inches='tight', dpi=150)\n",
    "print('Saved 3D plot to', three_d_png)\n",
    "plt.show()"
   ]
  },
  {
   "cell_type": "markdown",
   "id": "ab5e0594",
   "metadata": {},
   "source": [
    "Interpretation:\n",
    "\n",
    "- The 3D scatter uses year as the x-axis, country (categorical) on the y-axis and GDP on the z-axis to show how top-country GDPs evolve over time. Use rotation to explore temporal depth."
   ]
  },
  {
   "cell_type": "markdown",
   "id": "323b89a9",
   "metadata": {},
   "source": [
    "## Trend Analysis & Growth Rates\n",
    "\n",
    "Compute year-over-year (YoY) growth rates and CAGR (2020→2025) when both endpoints are available. Plot YoY lines for top-10 countries."
   ]
  },
  {
   "cell_type": "code",
   "execution_count": null,
   "id": "2f68ecf6",
   "metadata": {},
   "outputs": [],
   "source": [
    "df_analysis_sorted = df_long.sort_values(['country','year']).copy()\n",
    "df_analysis_sorted['gdp_lag1'] = df_analysis_sorted.groupby('country')['gdp'].shift(1)\n",
    "df_analysis_sorted['yoy_pct'] = (df_analysis_sorted['gdp'] / df_analysis_sorted['gdp_lag1'] - 1) * 100\n",
    "\n",
    "# Compute CAGR for countries that have both 2020 and 2025 values\n",
    "pivot_for_cagr = df_long[df_long['year'].isin([2020, 2025])].pivot(index='country', columns='year', values='gdp')\n",
    "if 2020 in pivot_for_cagr.columns and 2025 in pivot_for_cagr.columns:\n",
    "    pivot_for_cagr = pivot_for_cagr.dropna(subset=[2020, 2025])\n",
    "    pivot_for_cagr['abs_change'] = pivot_for_cagr[2025] - pivot_for_cagr[2020]\n",
    "    pivot_for_cagr['CAGR_2020_2025_pct'] = ((pivot_for_cagr[2025] / pivot_for_cagr[2020]) ** (1/5) - 1) * 100\n",
    "    cagr_summary = pivot_for_cagr[['abs_change','CAGR_2020_2025_pct']].sort_values('CAGR_2020_2025_pct', ascending=False)\n",
    "    display(cagr_summary.head(10))\n",
    "else:\n",
    "    print('Not enough data to compute 2020-2025 CAGR for countries (missing either 2020 or 2025).')\n",
    "\n",
    "# Plot YoY for top 10 average GDP countries\n",
    "top10_countries = top10['country'].tolist()\n",
    "df_top10_yoy = df_analysis_sorted[df_analysis_sorted['country'].isin(top10_countries)]\n",
    "fig, ax = plt.subplots(figsize=(12,6))\n",
    "for c in top10_countries:\n",
    "    tmp = df_top10_yoy[df_top10_yoy['country']==c]\n",
    "    ax.plot(tmp['year'], tmp['yoy_pct'], marker='o', label=c)\n",
    "ax.set_title('YoY growth percentage - Top 10 countries')\n",
    "ax.set_ylabel('YoY %')\n",
    "ax.legend()\n",
    "yoy_png = os.path.join(OUT_DIR, 'fig_yoy_top10.png')\n",
    "fig.savefig(yoy_png, bbox_inches='tight', dpi=150)\n",
    "print('Saved YoY plot to', yoy_png)\n",
    "plt.show()"
   ]
  },
  {
   "cell_type": "markdown",
   "id": "713e2f61",
   "metadata": {},
   "source": [
    "Interpretation:\n",
    "\n",
    "- YoY lines reveal year-to-year volatility. Watch for extreme spikes or negative values indicating contraction. CAGR gives a compact view of multi-year growth."
   ]
  },
  {
   "cell_type": "markdown",
   "id": "ba659fa1",
   "metadata": {},
   "source": [
    "## Country Comparison Panel (subplot function)\n",
    "Function `plot_country_comparison` creates an interactive subplot showing each selected country's GDP across years with a consistent y-axis for easier comparisons."
   ]
  },
  {
   "cell_type": "code",
   "execution_count": null,
   "id": "c8e97e9a",
   "metadata": {},
   "outputs": [],
   "source": [
    "def plot_country_comparison(countries_list):\n",
    "    n = len(countries_list)\n",
    "    cols = 2\n",
    "    rows = math.ceil(n/cols)\n",
    "    fig, axes = plt.subplots(rows, cols, figsize=(12, 4*rows), sharey=True)\n",
    "    axes = axes.flatten() if hasattr(axes, 'flatten') else [axes]\n",
    "    for i, country in enumerate(countries_list):\n",
    "        tmp = df_long[df_long['country']==country].sort_values('year')\n",
    "        axes[i].plot(tmp['year'], tmp['gdp'], marker='o')\n",
    "        axes[i].set_title(country)\n",
    "    plt.tight_layout()\n",
    "    return fig\n",
    "\n",
    "sample_countries = top10['country'].tolist()[:6]\n",
    "fig_cmp = plot_country_comparison(sample_countries)\n",
    "cmp_png = os.path.join(OUT_DIR, 'fig_country_comparison.png')\n",
    "fig_cmp.savefig(cmp_png, bbox_inches='tight', dpi=150)\n",
    "print('Saved comparison panel to', cmp_png)\n",
    "plt.show()"
   ]
  },
  {
   "cell_type": "markdown",
   "id": "827d4fed",
   "metadata": {},
   "source": [
    "Interpretation:\n",
    "\n",
    "- Each subplot shows one country's GDP over time. Shared y-axis makes relative comparisons easier; look for diverging or converging trends."
   ]
  },
  {
   "cell_type": "markdown",
   "id": "22bcae55",
   "metadata": {},
   "source": [
    "## Animation → Create `.mp4`\n",
    "\n",
    "We generate per-year frames using Matplotlib (saving PNGs to `/kaggle/working/frames/`) and stitch them into `/kaggle/working/gdp_animation.mp4` using `imageio`. If `imageio` is missing the cell prints instructions to install `imageio` and `imageio-ffmpeg`."
   ]
  },
  {
   "cell_type": "code",
   "execution_count": null,
   "id": "ad67b1a9",
   "metadata": {},
   "outputs": [],
   "source": [
    "ANIM_YEARS = sorted(analysis_years)\n",
    "FRAMES_DIR = os.path.join(OUT_DIR, 'frames')\n",
    "os.makedirs(FRAMES_DIR, exist_ok=True)\n",
    "\n",
    "# Select top N countries to animate\n",
    "TOP_N = 8\n",
    "anim_countries = grouped.sort_values('gdp_avg', ascending=False).head(TOP_N)['country'].tolist()\n",
    "anim_df = df_long[df_long['country'].isin(anim_countries)].pivot(index='year', columns='country', values='gdp').reindex(ANIM_YEARS)\n",
    "\n",
    "# Create frames: we'll plot cumulative line up to each year\n",
    "frame_files = []\n",
    "for i, year in enumerate(ANIM_YEARS):\n",
    "    fig, ax = plt.subplots(figsize=(12,6))\n",
    "    for c in anim_countries:\n",
    "        vals = anim_df[c].values[:i+1]\n",
    "        yrs = ANIM_YEARS[:i+1]\n",
    "        ax.plot(yrs, vals, marker='o', label=c)\n",
    "    ax.set_title(f'GDP Trends up to {year}')\n",
    "    ax.set_xlabel('Year')\n",
    "    ax.set_ylabel('GDP')\n",
    "    ax.legend()\n",
    "    path = os.path.join(FRAMES_DIR, f'frame_{year}.png')\n",
    "    fig.savefig(path, bbox_inches='tight', dpi=150)\n",
    "    frame_files.append(path)\n",
    "    plt.close(fig)\n",
    "    print('Wrote frame', path)\n",
    "\n",
    "# Stitch into mp4 using imageio if available\n",
    "mp4_path = os.path.join(OUT_DIR, 'gdp_animation.mp4')\n",
    "if _HAS_IMAGEIO:\n",
    "    try:\n",
    "        with imageio.get_writer(mp4_path, fps=1) as writer:\n",
    "            for fp in frame_files:\n",
    "                img = imageio.imread(fp)\n",
    "                writer.append_data(img)\n",
    "        print('Saved animation to', mp4_path)\n",
    "    except Exception as e:\n",
    "        print('Failed to write MP4:', e)\n",
    "else:\n",
    "    print('imageio not available. To create MP4 install via: !pip install imageio imageio-ffmpeg')"
   ]
  },
  {
   "cell_type": "markdown",
   "id": "96ff3c16",
   "metadata": {},
   "source": [
    "If frames were created and stitched to MP4 above, the video will be saved under `/kaggle/working/gdp_animation.mp4`. If not, an interactive HTML animation has been created as a fallback."
   ]
  },
  {
   "cell_type": "code",
   "execution_count": null,
   "id": "e07ec57e",
   "metadata": {},
   "outputs": [],
   "source": [
    "# Display mp4 if exists, otherwise show interactive animation HTML path\n",
    "from IPython.display import HTML, display\n",
    "mp4_path = os.path.join(OUT_DIR, 'gdp_animation.mp4')\n",
    "interactive_path = os.path.join(OUT_DIR, 'gdp_animation_interactive.html')\n",
    "if os.path.exists(mp4_path):\n",
    "    print('Displaying MP4:')\n",
    "    display(HTML(f\"<video width=800 controls><source src='{mp4_path}' type='video/mp4'></video>\"))\n",
    "elif os.path.exists(interactive_path):\n",
    "    print('Interactive animation HTML available at:', interactive_path)\n",
    "    display(HTML(f\"<a href='{interactive_path}' target='_blank'>Open interactive animation</a>\"))\n",
    "else:\n",
    "    print('No animation output found. Check previous cell logs for issues (kaleido/imageio availability).')"
   ]
  },
  {
   "cell_type": "markdown",
   "id": "26bf1621",
   "metadata": {},
   "source": [
    "## Save outputs & reproducibility\n",
    "\n",
    "- Save cleaned long-format CSV to `/kaggle/working/df_long.csv`.\n",
    "- Already saved interactive HTMLs for key figures under `/kaggle/working/`.\n",
    "- If frames were generated, they are under `/kaggle/working/frames/` and the final MP4 is `/kaggle/working/gdp_animation.mp4`."
   ]
  },
  {
   "cell_type": "code",
   "execution_count": null,
   "id": "e67177b5",
   "metadata": {},
   "outputs": [],
   "source": [
    "clean_csv_path = os.path.join(OUT_DIR, 'df_long.csv')\n",
    "df_long_clean.to_csv(clean_csv_path, index=False)\n",
    "print('Saved cleaned long-format CSV to', clean_csv_path)\n",
    "\n",
    "# Summarize saved files\n",
    "saved_files = [os.path.join(OUT_DIR, p) for p in os.listdir(OUT_DIR) if p.endswith('.html') or p.endswith('.csv') or p.endswith('.mp4')]\n",
    "print('Saved output files:')\n",
    "for f in saved_files:\n",
    "    print('-', f)"
   ]
  },
  {
   "cell_type": "markdown",
   "id": "31817bd5",
   "metadata": {},
   "source": [
    "## Final Results & Business Insights\n",
    "\n",
    "- **Top economies dominate absolute GDP:** The top 10 countries account for a large share of global GDP; use per-capita or PPP normalization to compare productivity.\n",
    "- **High year-to-year correlation:** GDP values are highly correlated year-to-year; large changes usually indicate real shocks or data/re-basing.\n",
    "- **Missing data matters:** Several countries are dropped from animations due to >30% missing years—this should be flagged if running automated reports.\n",
    "- **Follow-ups:** Merge population for GDP per capita, integrate inflation / exchange-rate adjustments, and add more historical years for robust forecasting.\n",
    "- **Forecasting caveat:** 6 annual points (2020–2025) are short for strong forecasting — consider longer time series for temporal models like Prophet or ARIMA."
   ]
  },
  {
   "cell_type": "markdown",
   "id": "dd8840c1",
   "metadata": {},
   "source": [
    "## Reproducibility / README\n",
    "\n",
    "To reproduce fully:\n",
    "1. Ensure the dataset CSV is available under `/kaggle/input/<dataset>/` or update the path in the loading cell.\n",
    "2. (Optional) Install `kaleido` and `imageio-ffmpeg` if you want per-frame PNG export and MP4 output:\n",
    "   - `!pip install kaleido imageio imageio-ffmpeg`\n",
    "3. Run notebook top-to-bottom. Exporting frames and writing MP4 may take a few minutes depending on CPU.\n",
    "\n",
    "Extension ideas:\n",
    "- Add population data to compute GDP per capita and re-run the visualizations.\n",
    "- Add regional grouping and produce side-by-side choropleths.\n",
    "- Implement clustering by GDP growth patterns and annotate clusters in visuals."
   ]
  },
  {
   "cell_type": "markdown",
   "id": "7c860b20",
   "metadata": {},
   "source": [
    "### Notebook generation completed.\n",
    "\n",
    "If you want, I can now:\n",
    "- Write this notebook JSON to a file under your workspace (please confirm filepath), or\n",
    "- Add a Streamlit app version that exposes these visualizations as an interactive dashboard."
   ]
  }
 ],
 "metadata": {
  "language_info": {
   "name": "python"
  }
 },
 "nbformat": 4,
 "nbformat_minor": 5
}
