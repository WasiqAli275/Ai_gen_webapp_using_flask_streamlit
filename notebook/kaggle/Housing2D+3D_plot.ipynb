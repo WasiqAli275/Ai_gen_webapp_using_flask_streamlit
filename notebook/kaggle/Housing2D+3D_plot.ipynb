{
 "cells": [
  {
   "cell_type": "markdown",
   "id": "44219423",
   "metadata": {},
   "source": [
    "<div style=\"\n",
    "    border-radius:20px;\n",
    "    border: 2px solid rgba(106,90,205,0.8);\n",
    "    padding:22px;\n",
    "    background: linear-gradient(135deg, #0f0f1a 0%, #151526 40%, #2b2b44 100%);\n",
    "    box-shadow: 0 8px 30px rgba(106,90,205,0.15);\n",
    "    color:#e8e8f8;\n",
    "    font-family: 'Segoe UI', Tahoma, Geneva, Verdana, sans-serif;\n",
    "    text-align:center;\n",
    "\">\n",
    "  <div style=\"display:flex;align-items:center;justify-content:center;gap:18px;flex-wrap:wrap;\">\n",
    "    <div style=\"width:92px;height:92px;border-radius:18px;\n",
    "                background: linear-gradient(180deg, rgba(122,103,255,0.18), rgba(122,103,255,0.06));\n",
    "                display:flex;align-items:center;justify-content:center;\n",
    "                box-shadow: 0 6px 18px rgba(122,103,255,0.12);\">\n",
    "      <svg width=\"48\" height=\"48\" viewBox=\"0 0 24 24\" fill=\"none\" xmlns=\"http://www.w3.org/2000/svg\">\n",
    "        <path d=\"M3 17L9 11L13 15L21 7\" stroke=\"#AFAFFF\" stroke-width=\"1.6\" stroke-linecap=\"round\" stroke-linejoin=\"round\"/>\n",
    "        <circle cx=\"6\" cy=\"6\" r=\"2\" stroke=\"#AFAFFF\" stroke-width=\"1.2\"/>\n",
    "        <circle cx=\"18\" cy=\"18\" r=\"2\" stroke=\"#AFAFFF\" stroke-width=\"1.2\"/>\n",
    "      </svg>\n",
    "    </div>\n",
    "\n",
    "    <div style=\"max-width:820px;text-align:left;\">\n",
    "      <h1 style=\"margin:6px 0 6px 0; font-size:220%; color:#fff; letter-spacing:0.4px;\">\n",
    "        ⚡ Interactive • 2D & 3D Plots • EDA • Data Viz • ML\n",
    "      </h1>\n",
    "      <p style=\"margin:6px 0 0 0; color:#cfcff7; font-size:105%;\">\n",
    "        A comprehensive, visual-first notebook — rich 2D/3D plots, geo & bubble maps, treemaps, radar charts, and step-by-step ML workflows (scikit-learn + TensorFlow/Keras). Clean, interactive and presentation-ready.\n",
    "      </p>\n",
    "    </div>\n",
    "  </div>\n",
    "\n",
    "  <hr style=\"border:0; height:1px; background:linear-gradient(90deg, rgba(122,103,255,0.15), rgba(167,139,255,0.08)); margin:18px 0;\">\n",
    "\n",
    "  <div style=\"display:flex;flex-wrap:wrap;gap:12px;justify-content:center;align-items:center;\">\n",
    "    <span style=\"background:rgba(106,90,205,0.08); padding:8px 12px; border-radius:12px; font-weight:600; color:#eaeaff;\">Dataset: California Housing (housing.csv)</span>\n",
    "    <span style=\"background:rgba(55,170,200,0.06); padding:8px 12px; border-radius:12px; font-weight:600; color:#bfeff7;\">Plots: Hist, Pair, Heatmap, Box, Violin, Bubble, 3D</span>\n",
    "    <span style=\"background:rgba(110,200,120,0.05); padding:8px 12px; border-radius:12px; font-weight:600; color:#dff7e0;\">ML: Linear, Tree, RF, GBM, SVR, KNN, Keras DNN</span>\n",
    "    <span style=\"background:rgba(255,200,100,0.05); padding:8px 12px; border-radius:12px; font-weight:600; color:#fff0d1;\">Metrics: R², RMSE, MAE + Interactive Comparison</span>\n",
    "  </div>\n",
    "\n",
    "  <div style=\"margin-top:16px; display:flex; justify-content:space-between; align-items:center; gap:12px; flex-wrap:wrap;\">\n",
    "    <div style=\"text-align:left; color:#d6d6f8; font-size:92%; padding-left:6px;\">\n",
    "      <strong>Structure:</strong>\n",
    "      <span style=\"display:block; margin-top:6px;\">1) Imports → 2) Cleaning → 3) EDA (plot-per-cell) → 4) ML (model-per-cell) → 5) Results</span>\n",
    "    </div>\n",
    "\n",
    "    <div style=\"text-align:right; min-width:220px;\">\n",
    "      <div style=\"font-size:90%; color:#cfcff7;\">Created by <strong style=\"color:#fff;\">Your Name</strong></div>\n",
    "      <div style=\"font-size:85%; color:#9f9fd8; margin-top:4px;\">Notebook — Interactive visual analysis • Aug 27, 2025</div>\n",
    "    </div>\n",
    "  </div>\n",
    "</div>\n"
   ]
  },
  {
   "cell_type": "markdown",
   "id": "c9102984",
   "metadata": {},
   "source": [
    "<div style=\"border-radius:18px;\n",
    "            border: 2px solid #8A2BE2;\n",
    "            padding:22px;\n",
    "            background: linear-gradient(135deg, #0D0D1A, #1A1A40, #2D2D5C);\n",
    "            font-size:110%;\n",
    "            box-shadow: 0px 0px 25px #8A2BE2, 0px 0px 35px #4B0082;\n",
    "            max-width:900px; \n",
    "            margin:auto; \n",
    "            transition: all 0.3s ease-in-out;\">\n",
    "\n",
    "  <h1 style=\"margin:10px 0 12px 0; \n",
    "             font-size:230%; \n",
    "             font-family:'Trebuchet MS', sans-serif; \n",
    "             color:#FFFFFF; \n",
    "             letter-spacing:1.2px; \n",
    "             text-align:center;\n",
    "             text-shadow: 2px 2px 12px #000, 0px 0px 12px #8A2BE2;\">\n",
    "    ⚡ Interactive • 2D & 3D Plots • EDA • Data Viz • ML\n",
    "  </h1>\n",
    "\n",
    "  <p style=\"margin:12px 0 0 0; \n",
    "            color:#CFCFF7; \n",
    "            font-size:115%; \n",
    "            text-align:center;\n",
    "            line-height:1.7;\">\n",
    "    🚀 A futuristic, visual-first notebook — packed with immersive 2D/3D plots, bubble & geo maps, radar charts, treemaps, and ML pipelines (Scikit-learn + TensorFlow/Keras).  \n",
    "    <br>✨ Designed to be clean, interactive, and presentation-ready.\n",
    "  </p>\n",
    "\n",
    "</div>\n"
   ]
  },
  {
   "cell_type": "markdown",
   "id": "6309e062",
   "metadata": {},
   "source": [
    "<div style=\"border-radius:18px;\n",
    "            border: 3px solid #6A5ACD;\n",
    "            padding:20px;\n",
    "            background: linear-gradient(135deg, #0F0F1E, #1A1A2E, #2C2C44);\n",
    "            font-size:110%;\n",
    "            text-align:center;\n",
    "            box-shadow: 0px 0px 25px #6A5ACD; max-width:900px; margin:auto;\">\n",
    "\n",
    "  <h1 style=\"margin:6px 0 12px 0; \n",
    "             font-size:240%; \n",
    "             font-family:'Trebuchet MS', sans-serif; \n",
    "             color:#FFFFFF; \n",
    "             letter-spacing:1px; \n",
    "             text-shadow: 2px 2px 10px #000;\">\n",
    "    ⚡ Interactive • 2D & 3D Plots • EDA • Data Viz • ML\n",
    "  </h1>\n",
    "\n",
    "  <p style=\"margin:10px 0 0 0; \n",
    "            color:#CFCFF7; \n",
    "            font-size:115%; \n",
    "            line-height:1.6;\">\n",
    "    🚀 A comprehensive, visual-first notebook — featuring rich 2D/3D plots, geo & bubble maps, treemaps, radar charts, and end-to-end ML workflows (Scikit-learn + TensorFlow/Keras).  \n",
    "    <br>✨ Clean, interactive, and presentation-ready.\n",
    "  </p>\n",
    "\n",
    "  <hr style=\"border:1px solid #6A5ACD; margin:22px 0;\">\n",
    "\n",
    "  <h3 style=\"color:#ADFF2F; font-weight:normal; font-size:110%; margin-bottom:5px;\">\n",
    "    📅 Created by <b>Your Name</b> | 27/08/2025\n",
    "  </h3>\n",
    "\n",
    "  <h3 style=\"color:#FFB6C1; font-weight:normal; font-size:110%;\">\n",
    "    🙏 If you find this notebook helpful, drop an upvote ❤️\n",
    "  </h3>\n",
    "\n",
    "</div>\n"
   ]
  },
  {
   "cell_type": "markdown",
   "id": "dab0d9e1",
   "metadata": {},
   "source": [
    "<div style=\"\n",
    "    border-radius:20px;\n",
    "    border: 2px solid rgba(106,90,205,0.8);\n",
    "    padding:24px;\n",
    "    background: linear-gradient(135deg, #0e0e1a 0%, #18182b 45%, #2d2d4a 100%);\n",
    "    box-shadow: 0 8px 30px rgba(122,103,255,0.2);\n",
    "    color:#e8e8f8;\n",
    "    font-family: 'Segoe UI', Tahoma, Geneva, Verdana, sans-serif;\n",
    "    text-align:center;\n",
    "\">\n",
    "  <!-- Top Row -->\n",
    "  <div style=\"display:flex;align-items:center;justify-content:center;gap:18px;flex-wrap:wrap;\">\n",
    "    <!-- Icon Box -->\n",
    "    <div style=\"width:92px;height:92px;border-radius:18px;\n",
    "                background: linear-gradient(180deg, rgba(122,103,255,0.25), rgba(122,103,255,0.08));\n",
    "                display:flex;align-items:center;justify-content:center;\n",
    "                box-shadow: 0 6px 20px rgba(122,103,255,0.25);\">\n",
    "      <svg width=\"48\" height=\"48\" viewBox=\"0 0 24 24\" fill=\"none\" xmlns=\"http://www.w3.org/2000/svg\">\n",
    "        <path d=\"M3 17L9 11L13 15L21 7\" stroke=\"#AFAFFF\" stroke-width=\"1.6\" stroke-linecap=\"round\" stroke-linejoin=\"round\"/>\n",
    "        <circle cx=\"6\" cy=\"6\" r=\"2\" stroke=\"#AFAFFF\" stroke-width=\"1.2\"/>\n",
    "        <circle cx=\"18\" cy=\"18\" r=\"2\" stroke=\"#AFAFFF\" stroke-width=\"1.2\"/>\n",
    "      </svg>\n",
    "    </div>\n",
    "\n",
    " <!-- Title + Desc -->\n",
    "<div style=\"max-width:820px;text-align:left;\">\n",
    "  <h1 style=\"margin:6px 0; font-size:220%; color:#fff; letter-spacing:0.4px; text-shadow:0 0 12px rgba(150,120,255,0.6);\">\n",
    "    ⚡ Interactive • 2D & 3D Plots • EDA • Data Viz • ML\n",
    "  </h1>\n",
    "  <p style=\"margin:6px 0 0 0; color:#cfcff7; font-size:106%; line-height:1.45;\">\n",
    "    A comprehensive, visual-first notebook — rich 2D/3D plots, geo & bubble maps, treemaps, radar charts, and step-by-step ML workflows (scikit-learn + TensorFlow/Keras). Clean, interactive and presentation-ready.\n",
    "  </p>\n",
    "</div>\n",
    "\n",
    "  </div>\n",
    "\n",
    "  <!-- Divider -->\n",
    "  <hr style=\"border:0; height:1px; background:linear-gradient(90deg, rgba(122,103,255,0.2), rgba(167,139,255,0.1)); margin:18px 0;\">\n",
    "\n",
    "  <!-- Tags -->\n",
    "  <div style=\"display:flex;flex-wrap:wrap;gap:12px;justify-content:center;align-items:center;\">\n",
    "    <span style=\"background:rgba(106,90,205,0.12); padding:8px 12px; border-radius:12px; font-weight:600; color:#eaeaff; box-shadow:0 0 10px rgba(106,90,205,0.2);\">Dataset: California Housing (housing.csv)</span>\n",
    "    <span style=\"background:rgba(55,170,200,0.12); padding:8px 12px; border-radius:12px; font-weight:600; color:#bfeff7; box-shadow:0 0 10px rgba(55,170,200,0.2);\">Plots: Hist, Pair, Heatmap, Box, Violin, Bubble, 3D</span>\n",
    "    <span style=\"background:rgba(110,200,120,0.12); padding:8px 12px; border-radius:12px; font-weight:600; color:#dff7e0; box-shadow:0 0 10px rgba(110,200,120,0.2);\">ML: Linear, Tree, RF, GBM, SVR, KNN, Keras DNN</span>\n",
    "    <span style=\"background:rgba(255,200,100,0.12); padding:8px 12px; border-radius:12px; font-weight:600; color:#fff0d1; box-shadow:0 0 10px rgba(255,200,100,0.25);\">Metrics: R², RMSE, MAE + Interactive Comparison</span>\n",
    "  </div>\n",
    "\n",
    "  <!-- Footer -->\n",
    "  <div style=\"margin-top:18px; display:flex; justify-content:space-between; align-items:center; gap:12px; flex-wrap:wrap;\">\n",
    "    <div style=\"text-align:left; color:#d6d6f8; font-size:92%; padding-left:6px;\">\n",
    "      <strong>Structure:</strong>\n",
    "      <span style=\"display:block; margin-top:6px;\">1) Imports → 2) Cleaning → 3) EDA (plot-per-cell) → 4) ML (model-per-cell) → 5) Results</span>\n",
    "    </div>\n",
    "\n",
    " <div style=\"text-align:right; min-width:220px;\">\n",
    "  <div style=\"font-size:90%; color:#cfcff7;\">\n",
    "    Created by \n",
    "    <strong style=\"color:#fff; text-shadow:0 0 8px rgba(200,200,255,0.4);\">\n",
    "      Wasiq Ali Yasir\n",
    "    </strong>\n",
    "  </div>\n",
    "  <div style=\"font-size:85%; color:#9f9fd8; margin-top:4px;\">\n",
    "    Notebook — Interactive visual analysis • Aug 27, 2025\n",
    "  </div>\n",
    "</div>\n",
    "\n",
    "  </div>\n",
    "</div>\n"
   ]
  },
  {
   "cell_type": "markdown",
   "id": "c49c34e2",
   "metadata": {},
   "source": [
    "<div style=\"\n",
    "    border-radius:20px;\n",
    "    border: 2px solid #8A2BE2;\n",
    "    padding:24px;\n",
    "    background: linear-gradient(135deg, #0e0e1a 0%, #18182b 45%, #2d2d4a 100%);\n",
    "    box-shadow: 0px 0px 25px #8A2BE2, 0px 0px 35px #4B0082;\n",
    "    color:#e8e8f8;\n",
    "    font-family: 'Segoe UI', Tahoma, Geneva, Verdana, sans-serif;\n",
    "    text-align:center;\n",
    "    transition: all 0.3s ease-in-out;\n",
    "\">\n",
    "  <!-- Top Row -->\n",
    "  <div style=\"display:flex;align-items:center;justify-content:center;gap:18px;flex-wrap:wrap;\">\n",
    "    <!-- Icon Box -->\n",
    "    <div style=\"width:92px;height:92px;border-radius:18px;\n",
    "                background: linear-gradient(180deg, rgba(122,103,255,0.25), rgba(122,103,255,0.08));\n",
    "                display:flex;align-items:center;justify-content:center;\n",
    "                box-shadow: 0 6px 20px rgba(122,103,255,0.25), 0 0 20px rgba(122,103,255,0.3);\">\n",
    "      <svg width=\"48\" height=\"48\" viewBox=\"0 0 24 24\" fill=\"none\" xmlns=\"http://www.w3.org/2000/svg\">\n",
    "        <path d=\"M3 17L9 11L13 15L21 7\" stroke=\"#AFAFFF\" stroke-width=\"1.6\" stroke-linecap=\"round\" stroke-linejoin=\"round\"/>\n",
    "        <circle cx=\"6\" cy=\"6\" r=\"2\" stroke=\"#AFAFFF\" stroke-width=\"1.2\"/>\n",
    "        <circle cx=\"18\" cy=\"18\" r=\"2\" stroke=\"#AFAFFF\" stroke-width=\"1.2\"/>\n",
    "      </svg>\n",
    "    </div>\n",
    "\n",
    "<!--- Title + Desc --->\n",
    "<div style=\"max-width:820px; text-align:left; padding:15px; background:linear-gradient(135deg,#0d0d1a,#1a1a33,#2a2a55); border-radius:18px; box-shadow:0 0 25px rgba(120,100,255,0.5);\">\n",
    "\n",
    "  <h1 style=\"margin:6px 0; font-size:220%; color:#fff; letter-spacing:0.4px; text-shadow:0 0 12px rgba(150,120,255,0.6);\">\n",
    "    ⚡ Interactive • 2D & 3D Plots • EDA • Data Viz • ML\n",
    "  </h1>\n",
    "\n",
    "  <p style=\"margin:6px 0 0 0; color:#cfcff7; font-size:106%; line-height:1.45;\">\n",
    "    A comprehensive, visual-first notebook — rich 2D/3D plots, geo & bubble maps, treemaps, radar charts, and step-by-step ML workflows (scikit-learn + TensorFlow/Keras). Clean, interactive and presentation-ready.\n",
    "  </p>\n",
    "\n",
    "</div>\n",
    "\n",
    "  </div>\n",
    "\n",
    "  <!-- Divider -->\n",
    "  <hr style=\"border:0; height:1px; background:linear-gradient(90deg, rgba(122,103,255,0.4), rgba(167,139,255,0.2)); margin:18px 0; box-shadow:0 0 12px rgba(138,43,226,0.5);\">\n",
    "\n",
    "  <!-- Tags -->\n",
    "  <div style=\"display:flex;flex-wrap:wrap;gap:12px;justify-content:center;align-items:center;\">\n",
    "    <span style=\"background:rgba(106,90,205,0.12); padding:8px 12px; border-radius:12px; font-weight:600; color:#eaeaff; box-shadow:0 0 12px rgba(106,90,205,0.35);\">Dataset: California Housing (housing.csv)</span>\n",
    "    <span style=\"background:rgba(55,170,200,0.12); padding:8px 12px; border-radius:12px; font-weight:600; color:#bfeff7; box-shadow:0 0 12px rgba(55,170,200,0.35);\">Plots: Hist, Pair, Heatmap, Box, Violin, Bubble, 3D</span>\n",
    "    <span style=\"background:rgba(110,200,120,0.12); padding:8px 12px; border-radius:12px; font-weight:600; color:#dff7e0; box-shadow:0 0 12px rgba(110,200,120,0.35);\">ML: Linear, Tree, RF, GBM, SVR, KNN, Keras DNN</span>\n",
    "    <span style=\"background:rgba(255,200,100,0.12); padding:8px 12px; border-radius:12px; font-weight:600; color:#fff0d1; box-shadow:0 0 12px rgba(255,200,100,0.35);\">Metrics: R², RMSE, MAE + Interactive Comparison</span>\n",
    "  </div>\n",
    "\n",
    "  <!-- Footer -->\n",
    "  <div style=\"margin-top:18px; display:flex; justify-content:space-between; align-items:center; gap:12px; flex-wrap:wrap;\">\n",
    "    <div style=\"text-align:left; color:#d6d6f8; font-size:92%; padding-left:6px;\">\n",
    "      <strong>Structure:</strong>\n",
    "      <span style=\"display:block; margin-top:6px;\">1) Imports → 2) Cleaning → 3) EDA (plot-per-cell) → 4) ML (model-per-cell) → 5) Results</span>\n",
    "    </div>\n",
    "<!--- Footer --->\n",
    "<div style=\"text-align:right; min-width:220px; margin-top:12px; font-family:Segoe UI, sans-serif;\">\n",
    "  <div style=\"font-size:90%; color:#cfcff7;\">\n",
    "    Created by <strong style=\"color:#fff; text-shadow:0 0 8px rgba(200,200,255,0.4);\">Wasiq Ali Yasir</strong>\n",
    "  </div>\n",
    "  <div style=\"font-size:85%; color:#9f9fd8; margin-top:4px;\">\n",
    "    Notebook — Interactive visual analysis • Aug 27, 2025\n",
    "  </div>\n",
    "</div>\n",
    "  </div>\n",
    "</div>\n"
   ]
  },
  {
   "cell_type": "markdown",
   "id": "3023f9cc",
   "metadata": {},
   "source": [
    "<div style=\"border-radius:18px;\n",
    "            border: 3px solid #b502e2ff;\n",
    "            padding:20px;\n",
    "            background: linear-gradient(135deg, #000000, #1E1E2E, #2D2D44);\n",
    "            font-size:110%;\n",
    "            text-align:left;\n",
    "            box-shadow: 0px 0px 20px #b502e2ff;\">\n",
    "\n",
    "<h2 style=\"text-align:center;\n",
    "           font-weight:bolder;\n",
    "           color:#FFFFFF;\n",
    "           font-family:'Trebuchet MS', sans-serif;\n",
    "           text-shadow: 0 0 12px #6A5ACD;\n",
    "           margin-bottom:15px;\">\n",
    "📑 Table of Contents\n",
    "</h2>\n",
    "\n",
    "<hr style=\"border:1px solid #6A5ACD; margin:15px 0; box-shadow:0 0 6px #6A5ACD;\">\n",
    "\n",
    "<a id=\"toc\"></a>\n",
    "<ul style=\"line-height:1.9; font-size:110%; list-style-type:none; padding-left:10px;\">\n",
    "\n",
    "  <li>🔹 <a href=\"# 1.\" style=\"text-decoration:none; color:#ADFF2F; text-shadow:0 0 6px #ADFF2F;\"><b>1. Import Libraries</b></a></li>\n",
    "  <li>🔹 <a href=\"# 2.\" style=\"text-decoration:none; color:#FFB6C1; text-shadow:0 0 6px #FFB6C1;\"><b>2. Load Dataset</b></a></li>\n",
    "  <li>🔹 <a href=\"# 3.\" style=\"text-decoration:none; color:#87CEEB; text-shadow:0 0 6px #87CEEB;\"><b>3. Data Cleaning & Visualization</b></a></li>\n",
    "  <li>🔹 <a href=\"# 4.\" style=\"text-decoration:none; color:#FFD700; text-shadow:0 0 6px #FFD700;\"><b>4. data analysis & Interactive Plots</b></a></li>\n",
    "  <li>🔹 <a href=\"# 5.\" style=\"text-decoration:none; color:#00FA9A; text-shadow:0 0 6px #00FA9A;\"><b>5. Exploratory Data Analysis (EDA)</b></a></li>\n",
    "  <li>🔹 <a href=\"# 6.\" style=\"text-decoration:none; color:#FF69B4; text-shadow:0 0 6px #FF69B4;\"><b>6. All ML Models</b></a></li>\n",
    "  <li>🔹 <a href=\"# 7.\" style=\"text-decoration:none; color:#7FFFD4; text-shadow:0 0 6px #7FFFD4;\"><b>7. Predictive Analysis</b></a></li>\n",
    "  <li>🔹 <a href=\"# 8.\" style=\"text-decoration:none; color:#FFA07A; text-shadow:0 0 6px #FFA07A;\"><b>8. Predictive Comparison Plots & Results</b></a></li>\n",
    "\n",
    "\n",
    "</ul>\n",
    "</div>\n"
   ]
  },
  {
   "cell_type": "markdown",
   "id": "84f684dd",
   "metadata": {},
   "source": [
    "# 1. Import libraries"
   ]
  },
  {
   "cell_type": "code",
   "execution_count": null,
   "id": "3e3f4539",
   "metadata": {},
   "outputs": [],
   "source": [
    "# Step 1: Import all necessary libraries\n",
    "import numpy as np\n",
    "import pandas as pd\n",
    "import matplotlib.pyplot as plt\n",
    "import seaborn as sns\n",
    "from mpl_toolkits.mplot3d import Axes3D\n",
    "from sklearn.preprocessing import StandardScaler, LabelEncoder\n",
    "from sklearn.model_selection import train_test_split, cross_val_score\n",
    "from sklearn.linear_model import LinearRegression, Ridge, Lasso\n",
    "from sklearn.ensemble import RandomForestRegressor, GradientBoostingRegressor\n",
    "from sklearn.svm import SVR\n",
    "from sklearn.neighbors import KNeighborsRegressor\n",
    "from sklearn.tree import DecisionTreeRegressor\n",
    "from sklearn.metrics import mean_squared_error, r2_score, mean_absolute_error\n",
    "import warnings\n",
    "warnings.filterwarnings('ignore')\n",
    "\n",
    "# Set style for plots\n",
    "plt.style.use('seaborn-v0_8')\n",
    "sns.set_palette(\"husl\")\n",
    "%matplotlib inline"
   ]
  },
  {
   "cell_type": "markdown",
   "id": "93a4c006",
   "metadata": {},
   "source": [
    "# 2. Load dataset"
   ]
  },
  {
   "cell_type": "code",
   "execution_count": null,
   "id": "a2a4f55b",
   "metadata": {},
   "outputs": [],
   "source": [
    "df = pd.read_csv('housing.csv')"
   ]
  },
  {
   "cell_type": "markdown",
   "id": "64d69b5f",
   "metadata": {},
   "source": [
    "## Display basic information"
   ]
  },
  {
   "cell_type": "code",
   "execution_count": null,
   "id": "84a6234d",
   "metadata": {},
   "outputs": [],
   "source": [
    "print(\"Dataset Shape:\", df.shape)\n",
    "print(\"\\nFirst 5 rows:\")\n",
    "display(df.head())"
   ]
  },
  {
   "cell_type": "markdown",
   "id": "260f78c9",
   "metadata": {},
   "source": [
    "## Dataset Information"
   ]
  },
  {
   "cell_type": "code",
   "execution_count": null,
   "id": "59b290a7",
   "metadata": {},
   "outputs": [],
   "source": [
    "df.info()"
   ]
  },
  {
   "cell_type": "markdown",
   "id": "87f5dd10",
   "metadata": {},
   "source": [
    "## Summary Statistics"
   ]
  },
  {
   "cell_type": "code",
   "execution_count": null,
   "id": "768520cf",
   "metadata": {},
   "outputs": [],
   "source": [
    "display(df.describe())"
   ]
  },
  {
   "cell_type": "markdown",
   "id": "fac7a5e3",
   "metadata": {},
   "source": [
    "# 3. Data Cleaning & Visualization"
   ]
  },
  {
   "cell_type": "markdown",
   "id": "57b9c2fc",
   "metadata": {},
   "source": [
    "## Check for missing values"
   ]
  },
  {
   "cell_type": "code",
   "execution_count": null,
   "id": "b4688355",
   "metadata": {},
   "outputs": [],
   "source": [
    "print(\"\\nMissing Values:\")\n",
    "print(df.isnull().sum())"
   ]
  },
  {
   "cell_type": "markdown",
   "id": "3338441d",
   "metadata": {},
   "source": [
    "## Handle missing values"
   ]
  },
  {
   "cell_type": "code",
   "execution_count": null,
   "id": "931156bd",
   "metadata": {},
   "outputs": [],
   "source": [
    "if df['total_bedrooms'].isnull().sum() > 0:\n",
    "    df['total_bedrooms'].fillna(df['total_bedrooms'].median(), inplace=True)"
   ]
  },
  {
   "cell_type": "markdown",
   "id": "d045802c",
   "metadata": {},
   "source": [
    "## Check for duplicates"
   ]
  },
  {
   "cell_type": "code",
   "execution_count": null,
   "id": "c8dc4ac0",
   "metadata": {},
   "outputs": [],
   "source": [
    "print(\"\\nNumber of duplicates:\", df.duplicated().sum())"
   ]
  },
  {
   "cell_type": "markdown",
   "id": "8e9e2129",
   "metadata": {},
   "source": [
    "## Encode categorical variable"
   ]
  },
  {
   "cell_type": "code",
   "execution_count": null,
   "id": "a2414994",
   "metadata": {},
   "outputs": [],
   "source": [
    "le = LabelEncoder()\n",
    "df['ocean_proximity'] = le.fit_transform(df['ocean_proximity'])"
   ]
  },
  {
   "cell_type": "markdown",
   "id": "605d15e2",
   "metadata": {},
   "source": [
    "## Create new features"
   ]
  },
  {
   "cell_type": "code",
   "execution_count": null,
   "id": "3e0bb62c",
   "metadata": {},
   "outputs": [],
   "source": [
    "df['rooms_per_household'] = df['total_rooms'] / df['households']\n",
    "df['bedrooms_per_room'] = df['total_bedrooms'] / df['total_rooms']\n",
    "df['population_per_household'] = df['population'] / df['households']"
   ]
  },
  {
   "cell_type": "markdown",
   "id": "86e12acc",
   "metadata": {},
   "source": [
    "## Display cleaned dataset info"
   ]
  },
  {
   "cell_type": "code",
   "execution_count": null,
   "id": "50fdf8a7",
   "metadata": {},
   "outputs": [],
   "source": [
    "print(\"\\nAfter cleaning - Dataset Shape:\", df.shape)\n",
    "print(\"\\nFirst 5 rows after cleaning:\")\n",
    "display(df.head())"
   ]
  },
  {
   "cell_type": "markdown",
   "id": "a2760847",
   "metadata": {},
   "source": [
    "# 4. Data analysis and interactive plots"
   ]
  },
  {
   "cell_type": "markdown",
   "id": "00e1c21b",
   "metadata": {},
   "source": [
    "## Histogram of all numerical features"
   ]
  },
  {
   "cell_type": "code",
   "execution_count": null,
   "id": "4c3192f6",
   "metadata": {},
   "outputs": [],
   "source": [
    "plt.figure(figsize=(15, 10))\n",
    "df.hist(bins=30, figsize=(15, 10))\n",
    "plt.suptitle(\"Histograms of Numerical Features\", fontsize=16)\n",
    "plt.tight_layout()\n",
    "plt.show()"
   ]
  },
  {
   "cell_type": "markdown",
   "id": "7ed962bc",
   "metadata": {},
   "source": [
    "## Pairplot of selected features"
   ]
  },
  {
   "cell_type": "code",
   "execution_count": null,
   "id": "b716a2d1",
   "metadata": {},
   "outputs": [],
   "source": [
    "plt.figure(figsize=(12, 8))\n",
    "sns.pairplot(df[['median_house_value', 'median_income', 'housing_median_age', 'population', 'rooms_per_household']])\n",
    "plt.suptitle(\"Pairplot of Selected Features\", y=1.02, fontsize=16)\n",
    "plt.show()"
   ]
  },
  {
   "cell_type": "markdown",
   "id": "35cfc0f6",
   "metadata": {},
   "source": [
    "## Heatmap of correlations"
   ]
  },
  {
   "cell_type": "code",
   "execution_count": null,
   "id": "faf57bf9",
   "metadata": {},
   "outputs": [],
   "source": [
    "plt.figure(figsize=(12, 8))\n",
    "correlation_matrix = df.corr()\n",
    "sns.heatmap(correlation_matrix, annot=True, cmap='coolwarm', center=0)\n",
    "plt.title(\"Correlation Heatmap\", fontsize=16)\n",
    "plt.show()"
   ]
  },
  {
   "cell_type": "markdown",
   "id": "721236bb",
   "metadata": {},
   "source": [
    "## Boxplots for key features"
   ]
  },
  {
   "cell_type": "code",
   "execution_count": null,
   "id": "25f94378",
   "metadata": {},
   "outputs": [],
   "source": [
    "fig, axes = plt.subplots(2, 3, figsize=(18, 10))\n",
    "features_to_boxplot = ['median_income', 'housing_median_age', 'population', \n",
    "                       'rooms_per_household', 'bedrooms_per_room', 'median_house_value']\n",
    "for i, feature in enumerate(features_to_boxplot):\n",
    "    row, col = i // 3, i % 3\n",
    "    sns.boxplot(y=df[feature], ax=axes[row, col])\n",
    "    axes[row, col].set_title(f'Boxplot of {feature}', fontsize=12)\n",
    "plt.tight_layout()\n",
    "plt.show()"
   ]
  },
  {
   "cell_type": "markdown",
   "id": "de2b756e",
   "metadata": {},
   "source": [
    "## Pie Chart for Ocean Proximity"
   ]
  },
  {
   "cell_type": "code",
   "execution_count": null,
   "id": "0c09d933",
   "metadata": {},
   "outputs": [],
   "source": [
    "ocean_prox_original = le.inverse_transform(df['ocean_proximity'])\n",
    "ocean_prox_counts = pd.Series(ocean_prox_original).value_counts()\n",
    "plt.figure(figsize=(10, 8))\n",
    "plt.pie(ocean_prox_counts.values, labels=ocean_prox_counts.index, autopct='%1.1f%%', startangle=90)\n",
    "plt.title('Distribution of Ocean Proximity', fontsize=16)\n",
    "plt.axis('equal')\n",
    "plt.show()"
   ]
  },
  {
   "cell_type": "markdown",
   "id": "a2920308",
   "metadata": {},
   "source": [
    "## Bar Chart for Housing Median Age distribution"
   ]
  },
  {
   "cell_type": "code",
   "execution_count": null,
   "id": "0461438d",
   "metadata": {},
   "outputs": [],
   "source": [
    "plt.figure(figsize=(12, 6))\n",
    "df['housing_median_age'].plot(kind='hist', bins=30, edgecolor='black', alpha=0.7)\n",
    "plt.title('Distribution of Housing Median Age', fontsize=16)\n",
    "plt.xlabel('Housing Median Age')\n",
    "plt.ylabel('Frequency')\n",
    "plt.grid(axis='y', alpha=0.3)\n",
    "plt.show()"
   ]
  },
  {
   "cell_type": "markdown",
   "id": "1c41c80b",
   "metadata": {},
   "source": [
    "# 5. Exploratory Data analysis"
   ]
  },
  {
   "cell_type": "markdown",
   "id": "5886cf17",
   "metadata": {},
   "source": [
    "## Line Chart for Median Income vs Median House Value"
   ]
  },
  {
   "cell_type": "code",
   "execution_count": null,
   "id": "b2f845f1",
   "metadata": {},
   "outputs": [],
   "source": [
    "plt.figure(figsize=(12, 6))\n",
    "df_sorted = df.sort_values('median_income')\n",
    "plt.plot(df_sorted['median_income'], df_sorted['median_house_value'], alpha=0.6)\n",
    "plt.title('Median Income vs Median House Value', fontsize=16)\n",
    "plt.xlabel('Median Income')\n",
    "plt.ylabel('Median House Value')\n",
    "plt.grid(alpha=0.3)\n",
    "plt.show()"
   ]
  },
  {
   "cell_type": "markdown",
   "id": "c7c131b5",
   "metadata": {},
   "source": [
    "## Scatter Plot with hue for ocean proximity"
   ]
  },
  {
   "cell_type": "code",
   "execution_count": null,
   "id": "e5fe7ca2",
   "metadata": {},
   "outputs": [],
   "source": [
    "plt.figure(figsize=(12, 8))\n",
    "scatter = plt.scatter(df['longitude'], df['latitude'], alpha=0.4,\n",
    "            c=df['median_house_value'], cmap='jet', s=df['population']/100)\n",
    "plt.colorbar(scatter, label='Median House Value')\n",
    "plt.xlabel('Longitude')\n",
    "plt.ylabel('Latitude')\n",
    "plt.title('Geographical Distribution of House Prices', fontsize=16)\n",
    "plt.show()"
   ]
  },
  {
   "cell_type": "markdown",
   "id": "78c42474",
   "metadata": {},
   "source": [
    "## Bubble Chart: Longitude vs Latitude with population as size and price as color"
   ]
  },
  {
   "cell_type": "code",
   "execution_count": null,
   "id": "fbfc6448",
   "metadata": {},
   "outputs": [],
   "source": [
    "plt.figure(figsize=(14, 10))\n",
    "bubble = plt.scatter(df['longitude'], df['latitude'], alpha=0.5,\n",
    "            c=df['median_house_value'], cmap='viridis', s=df['population']/50)\n",
    "plt.colorbar(bubble, label='Median House Value')\n",
    "plt.xlabel('Longitude')\n",
    "plt.ylabel('Latitude')\n",
    "plt.title('California Housing Prices: Population Size Bubble Chart', fontsize=16)\n",
    "plt.show()"
   ]
  },
  {
   "cell_type": "markdown",
   "id": "6fd01ba1",
   "metadata": {},
   "source": [
    "## Area Chart for rooms and bedrooms"
   ]
  },
  {
   "cell_type": "code",
   "execution_count": null,
   "id": "1792bea3",
   "metadata": {},
   "outputs": [],
   "source": [
    "plt.figure(figsize=(12, 6))\n",
    "df_sample = df.nlargest(50, 'median_house_value').sort_index()\n",
    "plt.fill_between(df_sample.index, df_sample['total_rooms'], alpha=0.4, label='Total Rooms')\n",
    "plt.fill_between(df_sample.index, df_sample['total_bedrooms'], alpha=0.4, label='Total Bedrooms')\n",
    "plt.title('Area Chart: Rooms vs Bedrooms for Top 50 Most Expensive Houses', fontsize=16)\n",
    "plt.xlabel('Index')\n",
    "plt.ylabel('Count')\n",
    "plt.legend()\n",
    "plt.grid(alpha=0.3)\n",
    "plt.show()"
   ]
  },
  {
   "cell_type": "markdown",
   "id": "13eac778",
   "metadata": {},
   "source": [
    "## Violin Plot for housing median age by ocean proximity"
   ]
  },
  {
   "cell_type": "code",
   "execution_count": null,
   "id": "79ef9974",
   "metadata": {},
   "outputs": [],
   "source": [
    "plt.figure(figsize=(12, 8))\n",
    "sns.violinplot(x=ocean_prox_original, y=df['housing_median_age'])\n",
    "plt.title('Violin Plot: Housing Median Age by Ocean Proximity', fontsize=16)\n",
    "plt.xlabel('Ocean Proximity')\n",
    "plt.ylabel('Housing Median Age')\n",
    "plt.xticks(rotation=45)\n",
    "plt.show()"
   ]
  },
  {
   "cell_type": "markdown",
   "id": "6c6fa974",
   "metadata": {},
   "source": [
    "## 3D Scatter Plot"
   ]
  },
  {
   "cell_type": "code",
   "execution_count": null,
   "id": "0995da25",
   "metadata": {},
   "outputs": [],
   "source": [
    "fig = plt.figure(figsize=(14, 10))\n",
    "ax = fig.add_subplot(111, projection='3d')\n",
    "scatter = ax.scatter(df['longitude'], df['latitude'], df['median_house_value'],\n",
    "                    c=df['median_income'], cmap='viridis', alpha=0.5)\n",
    "ax.set_xlabel('Longitude')\n",
    "ax.set_ylabel('Latitude')\n",
    "ax.set_zlabel('Median House Value')\n",
    "plt.colorbar(scatter, label='Median Income')\n",
    "plt.title('3D Scatter Plot: Geography, House Value, and Income', fontsize=16)\n",
    "plt.show()"
   ]
  },
  {
   "cell_type": "markdown",
   "id": "d76e58ff",
   "metadata": {},
   "source": [
    "# 6. All ML models"
   ]
  },
  {
   "cell_type": "markdown",
   "id": "6476e790",
   "metadata": {},
   "source": [
    "## Prepare data for machine learning"
   ]
  },
  {
   "cell_type": "code",
   "execution_count": null,
   "id": "5ef65c9b",
   "metadata": {},
   "outputs": [],
   "source": [
    "X = df.drop('median_house_value', axis=1)\n",
    "y = df['median_house_value']\n",
    "\n",
    "# Split the data\n",
    "X_train, X_test, y_train, y_test = train_test_split(X, y, test_size=0.2, random_state=42)\n",
    "\n",
    "# Scale the features\n",
    "scaler = StandardScaler()\n",
    "X_train_scaled = scaler.fit_transform(X_train)\n",
    "X_test_scaled = scaler.transform(X_test)"
   ]
  },
  {
   "cell_type": "markdown",
   "id": "41dfbfc7",
   "metadata": {},
   "source": [
    "## Train and evaluate models"
   ]
  },
  {
   "cell_type": "markdown",
   "id": "4131754d",
   "metadata": {},
   "source": [
    "### Linear Regression"
   ]
  },
  {
   "cell_type": "code",
   "execution_count": null,
   "id": "d0f69f29",
   "metadata": {},
   "outputs": [],
   "source": [
    "lr = LinearRegression()\n",
    "lr.fit(X_train_scaled, y_train)\n",
    "y_pred_lr = lr.predict(X_test_scaled)\n",
    "mse_lr = mean_squared_error(y_test, y_pred_lr)\n",
    "rmse_lr = np.sqrt(mse_lr)\n",
    "mae_lr = mean_absolute_error(y_test, y_pred_lr)\n",
    "r2_lr = r2_score(y_test, y_pred_lr)\n",
    "cv_scores_lr = cross_val_score(lr, X_train_scaled, y_train, cv=5, scoring='r2')\n",
    "cv_mean_lr = cv_scores_lr.mean()\n",
    "print(f\"Linear Regression:\\n  RMSE: {rmse_lr:.2f}, MAE: {mae_lr:.2f}, R2: {r2_lr:.4f}, CV R2: {cv_mean_lr:.4f}\\n{'-'*50}\")"
   ]
  },
  {
   "cell_type": "markdown",
   "id": "0305a808",
   "metadata": {},
   "source": [
    "### Ridge Regression"
   ]
  },
  {
   "cell_type": "code",
   "execution_count": null,
   "id": "583f3f8b",
   "metadata": {},
   "outputs": [],
   "source": [
    "ridge = Ridge(alpha=1.0)\n",
    "ridge.fit(X_train_scaled, y_train)\n",
    "y_pred_ridge = ridge.predict(X_test_scaled)\n",
    "mse_ridge = mean_squared_error(y_test, y_pred_ridge)\n",
    "rmse_ridge = np.sqrt(mse_ridge)\n",
    "mae_ridge = mean_absolute_error(y_test, y_pred_ridge)\n",
    "r2_ridge = r2_score(y_test, y_pred_ridge)\n",
    "cv_scores_ridge = cross_val_score(ridge, X_train_scaled, y_train, cv=5, scoring='r2')\n",
    "cv_mean_ridge = cv_scores_ridge.mean()\n",
    "print(f\"Ridge Regression:\\n  RMSE: {rmse_ridge:.2f}, MAE: {mae_ridge:.2f}, R2: {r2_ridge:.4f}, CV R2: {cv_mean_ridge:.4f}\\n{'-'*50}\")"
   ]
  },
  {
   "cell_type": "markdown",
   "id": "fdbf7438",
   "metadata": {},
   "source": [
    "### Lasso Regression"
   ]
  },
  {
   "cell_type": "code",
   "execution_count": null,
   "id": "321569ac",
   "metadata": {},
   "outputs": [],
   "source": [
    "lasso = Lasso(alpha=1.0)\n",
    "lasso.fit(X_train_scaled, y_train)\n",
    "y_pred_lasso = lasso.predict(X_test_scaled)\n",
    "mse_lasso = mean_squared_error(y_test, y_pred_lasso)\n",
    "rmse_lasso = np.sqrt(mse_lasso)\n",
    "mae_lasso = mean_absolute_error(y_test, y_pred_lasso)\n",
    "r2_lasso = r2_score(y_test, y_pred_lasso)\n",
    "cv_scores_lasso = cross_val_score(lasso, X_train_scaled, y_train, cv=5, scoring='r2')\n",
    "cv_mean_lasso = cv_scores_lasso.mean()\n",
    "print(f\"Lasso Regression:\\n  RMSE: {rmse_lasso:.2f}, MAE: {mae_lasso:.2f}, R2: {r2_lasso:.4f}, CV R2: {cv_mean_lasso:.4f}\\n{'-'*50}\")"
   ]
  },
  {
   "cell_type": "markdown",
   "id": "eda0064a",
   "metadata": {},
   "source": [
    "### Random Forest"
   ]
  },
  {
   "cell_type": "code",
   "execution_count": null,
   "id": "eebcf1b3",
   "metadata": {},
   "outputs": [],
   "source": [
    "rf = RandomForestRegressor(n_estimators=100, random_state=42)\n",
    "rf.fit(X_train_scaled, y_train)\n",
    "y_pred_rf = rf.predict(X_test_scaled)\n",
    "mse_rf = mean_squared_error(y_test, y_pred_rf)\n",
    "rmse_rf = np.sqrt(mse_rf)\n",
    "mae_rf = mean_absolute_error(y_test, y_pred_rf)\n",
    "r2_rf = r2_score(y_test, y_pred_rf)\n",
    "cv_scores_rf = cross_val_score(rf, X_train_scaled, y_train, cv=5, scoring='r2')\n",
    "cv_mean_rf = cv_scores_rf.mean()\n",
    "print(f\"Random Forest:\\n  RMSE: {rmse_rf:.2f}, MAE: {mae_rf:.2f}, R2: {r2_rf:.4f}, CV R2: {cv_mean_rf:.4f}\\n{'-'*50}\")"
   ]
  },
  {
   "cell_type": "markdown",
   "id": "a0c31e03",
   "metadata": {},
   "source": [
    "### Gradient Boosting"
   ]
  },
  {
   "cell_type": "code",
   "execution_count": null,
   "id": "4863f2e1",
   "metadata": {},
   "outputs": [],
   "source": [
    "gb = GradientBoostingRegressor(n_estimators=100, random_state=42)\n",
    "gb.fit(X_train_scaled, y_train)\n",
    "y_pred_gb = gb.predict(X_test_scaled)\n",
    "mse_gb = mean_squared_error(y_test, y_pred_gb)\n",
    "rmse_gb = np.sqrt(mse_gb)\n",
    "mae_gb = mean_absolute_error(y_test, y_pred_gb)\n",
    "r2_gb = r2_score(y_test, y_pred_gb)\n",
    "cv_scores_gb = cross_val_score(gb, X_train_scaled, y_train, cv=5, scoring='r2')\n",
    "cv_mean_gb = cv_scores_gb.mean()\n",
    "print(f\"Gradient Boosting:\\n  RMSE: {rmse_gb:.2f}, MAE: {mae_gb:.2f}, R2: {r2_gb:.4f}, CV R2: {cv_mean_gb:.4f}\\n{'-'*50}\")"
   ]
  },
  {
   "cell_type": "markdown",
   "id": "f450e1ef",
   "metadata": {},
   "source": [
    "### Support Vector Machine"
   ]
  },
  {
   "cell_type": "code",
   "execution_count": null,
   "id": "6781a75f",
   "metadata": {},
   "outputs": [],
   "source": [
    "svm = SVR(kernel='rbf')\n",
    "svm.fit(X_train_scaled, y_train)\n",
    "y_pred_svm = svm.predict(X_test_scaled)\n",
    "mse_svm = mean_squared_error(y_test, y_pred_svm)\n",
    "rmse_svm = np.sqrt(mse_svm)\n",
    "mae_svm = mean_absolute_error(y_test, y_pred_svm)\n",
    "r2_svm = r2_score(y_test, y_pred_svm)\n",
    "cv_scores_svm = cross_val_score(svm, X_train_scaled, y_train, cv=5, scoring='r2')\n",
    "cv_mean_svm = cv_scores_svm.mean()\n",
    "print(f\"Support Vector Machine:\\n  RMSE: {rmse_svm:.2f}, MAE: {mae_svm:.2f}, R2: {r2_svm:.4f}, CV R2: {cv_mean_svm:.4f}\\n{'-'*50}\")"
   ]
  },
  {
   "cell_type": "markdown",
   "id": "81e9866d",
   "metadata": {},
   "source": [
    "### K-Nearest Neighbors"
   ]
  },
  {
   "cell_type": "code",
   "execution_count": null,
   "id": "996a5969",
   "metadata": {},
   "outputs": [],
   "source": [
    "knn = KNeighborsRegressor(n_neighbors=5)\n",
    "knn.fit(X_train_scaled, y_train)\n",
    "y_pred_knn = knn.predict(X_test_scaled)\n",
    "mse_knn = mean_squared_error(y_test, y_pred_knn)\n",
    "rmse_knn = np.sqrt(mse_knn)\n",
    "mae_knn = mean_absolute_error(y_test, y_pred_knn)\n",
    "r2_knn = r2_score(y_test, y_pred_knn)\n",
    "cv_scores_knn = cross_val_score(knn, X_train_scaled, y_train, cv=5, scoring='r2')\n",
    "cv_mean_knn = cv_scores_knn.mean()\n",
    "print(f\"K-Nearest Neighbors:\\n  RMSE: {rmse_knn:.2f}, MAE: {mae_knn:.2f}, R2: {r2_knn:.4f}, CV R2: {cv_mean_knn:.4f}\\n{'-'*50}\")"
   ]
  },
  {
   "cell_type": "markdown",
   "id": "7b3e486c",
   "metadata": {},
   "source": [
    "### Decision Tree"
   ]
  },
  {
   "cell_type": "code",
   "execution_count": null,
   "id": "2be1f338",
   "metadata": {},
   "outputs": [],
   "source": [
    "dt = DecisionTreeRegressor(random_state=42)\n",
    "dt.fit(X_train_scaled, y_train)\n",
    "y_pred_dt = dt.predict(X_test_scaled)\n",
    "mse_dt = mean_squared_error(y_test, y_pred_dt)\n",
    "rmse_dt = np.sqrt(mse_dt)\n",
    "mae_dt = mean_absolute_error(y_test, y_pred_dt)\n",
    "r2_dt = r2_score(y_test, y_pred_dt)\n",
    "cv_scores_dt = cross_val_score(dt, X_train_scaled, y_train, cv=5, scoring='r2')\n",
    "cv_mean_dt = cv_scores_dt.mean()\n",
    "print(f\"Decision Tree:\\n  RMSE: {rmse_dt:.2f}, MAE: {mae_dt:.2f}, R2: {r2_dt:.4f}, CV R2: {cv_mean_dt:.4f}\\n{'-'*50}\")"
   ]
  },
  {
   "cell_type": "markdown",
   "id": "f78709aa",
   "metadata": {},
   "source": [
    "## Collect and compare model results"
   ]
  },
  {
   "cell_type": "code",
   "execution_count": null,
   "id": "879d9835",
   "metadata": {},
   "outputs": [],
   "source": [
    "results = {\n",
    "    'Linear Regression': {'RMSE': rmse_lr, 'MAE': mae_lr, 'R2': r2_lr, 'CV R2 Mean': cv_mean_lr, 'Model': lr},\n",
    "    'Ridge Regression': {'RMSE': rmse_ridge, 'MAE': mae_ridge, 'R2': r2_ridge, 'CV R2 Mean': cv_mean_ridge, 'Model': ridge},\n",
    "    'Lasso Regression': {'RMSE': rmse_lasso, 'MAE': mae_lasso, 'R2': r2_lasso, 'CV R2 Mean': cv_mean_lasso, 'Model': lasso},\n",
    "    'Random Forest': {'RMSE': rmse_rf, 'MAE': mae_rf, 'R2': r2_rf, 'CV R2 Mean': cv_mean_rf, 'Model': rf},\n",
    "    'Gradient Boosting': {'RMSE': rmse_gb, 'MAE': mae_gb, 'R2': r2_gb, 'CV R2 Mean': cv_mean_gb, 'Model': gb},\n",
    "    'Support Vector Machine': {'RMSE': rmse_svm, 'MAE': mae_svm, 'R2': r2_svm, 'CV R2 Mean': cv_mean_svm, 'Model': svm},\n",
    "    'K-Nearest Neighbors': {'RMSE': rmse_knn, 'MAE': mae_knn, 'R2': r2_knn, 'CV R2 Mean': cv_mean_knn, 'Model': knn},\n",
    "    'Decision Tree': {'RMSE': rmse_dt, 'MAE': mae_dt, 'R2': r2_dt, 'CV R2 Mean': cv_mean_dt, 'Model': dt}\n",
    "}\n",
    "results_df = pd.DataFrame.from_dict(results, orient='index')\n",
    "metrics_df = results_df[['RMSE', 'MAE', 'R2', 'CV R2 Mean']]"
   ]
  },
  {
   "cell_type": "markdown",
   "id": "ce8fb105",
   "metadata": {},
   "source": [
    "# 7. Predictive analysis"
   ]
  },
  {
   "cell_type": "markdown",
   "id": "627da7dd",
   "metadata": {},
   "source": [
    "## Bar chart for R2 scores"
   ]
  },
  {
   "cell_type": "code",
   "execution_count": null,
   "id": "7fa4a847",
   "metadata": {},
   "outputs": [],
   "source": [
    "plt.figure(figsize=(12, 6))\n",
    "metrics_df['R2'].sort_values().plot(kind='barh', color='skyblue')\n",
    "plt.title('R2 Score by Model', fontsize=16)\n",
    "plt.xlabel('R2 Score')\n",
    "plt.grid(axis='x', alpha=0.3)\n",
    "plt.tight_layout()\n",
    "plt.show()"
   ]
  },
  {
   "cell_type": "markdown",
   "id": "14f33be2",
   "metadata": {},
   "source": [
    "## Bar chart for RMSE"
   ]
  },
  {
   "cell_type": "code",
   "execution_count": null,
   "id": "a5b458da",
   "metadata": {},
   "outputs": [],
   "source": [
    "plt.figure(figsize=(12, 6))\n",
    "metrics_df['RMSE'].sort_values(ascending=False).plot(kind='barh', color='lightcoral')\n",
    "plt.title('RMSE by Model', fontsize=16)\n",
    "plt.xlabel('RMSE')\n",
    "plt.grid(axis='x', alpha=0.3)\n",
    "plt.tight_layout()\n",
    "plt.show()"
   ]
  },
  {
   "cell_type": "markdown",
   "id": "f4eed3a0",
   "metadata": {},
   "source": [
    "# 8. Predictive Comparision plots and Result"
   ]
  },
  {
   "cell_type": "markdown",
   "id": "f4c052b3",
   "metadata": {},
   "source": [
    "## Comparison of R2 and Cross-Validation R2"
   ]
  },
  {
   "cell_type": "code",
   "execution_count": null,
   "id": "d9283961",
   "metadata": {},
   "outputs": [],
   "source": [
    "plt.figure(figsize=(12, 6))\n",
    "metrics_df[['R2', 'CV R2 Mean']].plot(kind='bar', figsize=(12, 6))\n",
    "plt.title('R2 Score vs Cross-Validation R2 Score', fontsize=16)\n",
    "plt.ylabel('Score')\n",
    "plt.xticks(rotation=45)\n",
    "plt.grid(axis='y', alpha=0.3)\n",
    "plt.tight_layout()\n",
    "plt.show()"
   ]
  },
  {
   "cell_type": "markdown",
   "id": "43aa04f4",
   "metadata": {},
   "source": [
    "## Scatter plot of actual vs predicted values for the best model"
   ]
  },
  {
   "cell_type": "code",
   "execution_count": null,
   "id": "4d0168bd",
   "metadata": {},
   "outputs": [],
   "source": [
    "best_model_name = metrics_df['R2'].idxmax()\n",
    "best_model = results[best_model_name]['Model']\n",
    "y_pred_best = best_model.predict(X_test_scaled)\n",
    "plt.figure(figsize=(10, 8))\n",
    "plt.scatter(y_test, y_pred_best, alpha=0.5)\n",
    "plt.plot([y_test.min(), y_test.max()], [y_test.min(), y_test.max()], 'r--', lw=2)\n",
    "plt.xlabel('Actual Values')\n",
    "plt.ylabel('Predicted Values')\n",
    "plt.title(f'Actual vs Predicted Values ({best_model_name})', fontsize=16)\n",
    "plt.grid(alpha=0.3)\n",
    "plt.show()"
   ]
  },
  {
   "cell_type": "markdown",
   "id": "9938ac81",
   "metadata": {},
   "source": [
    "## Residual plot for the best model"
   ]
  },
  {
   "cell_type": "code",
   "execution_count": null,
   "id": "b467703e",
   "metadata": {},
   "outputs": [],
   "source": [
    "residuals = y_test - y_pred_best\n",
    "plt.figure(figsize=(10, 6))\n",
    "plt.scatter(y_pred_best, residuals, alpha=0.5)\n",
    "plt.axhline(y=0, color='r', linestyle='--')\n",
    "plt.xlabel('Predicted Values')\n",
    "plt.ylabel('Residuals')\n",
    "plt.title(f'Residual Plot ({best_model_name})', fontsize=16)\n",
    "plt.grid(alpha=0.3)\n",
    "plt.show()"
   ]
  },
  {
   "cell_type": "markdown",
   "id": "f98e8c2b",
   "metadata": {},
   "source": [
    "## Feature importance for tree-based models"
   ]
  },
  {
   "cell_type": "code",
   "execution_count": null,
   "id": "17295823",
   "metadata": {},
   "outputs": [],
   "source": [
    "tree_models = ['Random Forest', 'Gradient Boosting', 'Decision Tree']\n",
    "for model_name in tree_models:\n",
    "    if hasattr(results[model_name]['Model'], 'feature_importances_'):\n",
    "        plt.figure(figsize=(12, 6))\n",
    "        importances = results[model_name]['Model'].feature_importances_\n",
    "        indices = np.argsort(importances)[::-1]\n",
    "        plt.bar(range(X.shape[1]), importances[indices])\n",
    "        plt.xticks(range(X.shape[1]), X.columns[indices], rotation=45)\n",
    "        plt.title(f'Feature Importances ({model_name})', fontsize=16)\n",
    "        plt.tight_layout()\n",
    "        plt.show()"
   ]
  },
  {
   "cell_type": "markdown",
   "id": "11e4bdad",
   "metadata": {},
   "source": [
    "## Final comparison table"
   ]
  },
  {
   "cell_type": "code",
   "execution_count": null,
   "id": "9590df9e",
   "metadata": {},
   "outputs": [],
   "source": [
    "comparison_table = metrics_df.round(4)\n",
    "print(\"Model Comparison Table:\")\n",
    "display(comparison_table.sort_values('R2', ascending=False))\n",
    "best_model_name = comparison_table['R2'].idxmax()\n",
    "print(f\"\\nBest Model: {best_model_name} with R2 score: {comparison_table.loc[best_model_name, 'R2']:.4f}\")"
   ]
  }
 ],
 "metadata": {
  "language_info": {
   "name": "python"
  }
 },
 "nbformat": 4,
 "nbformat_minor": 5
}
