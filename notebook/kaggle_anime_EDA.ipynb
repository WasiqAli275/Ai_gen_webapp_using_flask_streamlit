{
 "cells": [
  {
   "cell_type": "markdown",
   "id": "b5330fd0",
   "metadata": {},
   "source": [
    "# 📌 Anime Dataset EDA Notebook\n",
    "# ________________________________________________________________"
   ]
  },
  {
   "cell_type": "markdown",
   "id": "dabfb83d",
   "metadata": {},
   "source": [
    "### About me \n",
    "Name : Wasiq Ali\n",
    "\n",
    "Github link click [here](https://www.github.com/wasiqali275)\n",
    "\n",
    "facbook link click [here](https://www.facebook.com/profile.php?id=100092751110055)"
   ]
  },
  {
   "cell_type": "markdown",
   "id": "f34e0e57",
   "metadata": {},
   "source": [
    "### 👋 Assalam-o-Alaikum! In this notebook we can use **python==3.12** version. "
   ]
  },
  {
   "cell_type": "markdown",
   "id": "7a275698",
   "metadata": {},
   "source": [
    "##### In this notebook we can discuss about Kaggle  anime dataset \n",
    "##### And Dataset link is [here](https://www.kaggle.com/datasets/wasiqaliyasir/anime-dataset)"
   ]
  },
  {
   "cell_type": "markdown",
   "id": "08a619a4",
   "metadata": {},
   "source": [
    "###### In this notebook we will learn **Data visualization, EDA and analysis** using python"
   ]
  },
  {
   "cell_type": "markdown",
   "id": "bccb2242",
   "metadata": {},
   "source": [
    "#### ✅ Step 1: Install & Import Libraries\n",
    "#### Load the dataset directly online using kagglehub"
   ]
  },
  {
   "cell_type": "code",
   "execution_count": null,
   "id": "e3469138",
   "metadata": {},
   "outputs": [],
   "source": [
    "from IPython.display import display, HTML\n",
    "\n",
    "def set_background(color: str):\n",
    "    script = f\"\"\"\n",
    "    var cell = this.closest('.cell, .jp-CodeCell');\n",
    "    var editor = cell.querySelector('.input_area, .jp-Editor');\n",
    "    editor.style.background = '{color}';\n",
    "    this.parentNode.removeChild(this)\n",
    "    \"\"\"\n",
    "    display(HTML('<img src onerror=\"%s\" style=\"display:none\">' % script))\n",
    "\n",
    "# Example usage:\n",
    "set_background('lightgreen')\n",
    "\n",
    "\n",
    "# pip install kagglehub[pandas-datasets]\n",
    "import kagglehub\n",
    "from kagglehub import KaggleDatasetAdapter\n",
    "import pandas as pd\n",
    "import matplotlib.pyplot as plt\n",
    "import seaborn as sns\n"
   ]
  },
  {
   "cell_type": "markdown",
   "id": "4b02375a",
   "metadata": {},
   "source": [
    "### ✅ Step 2: Load Dataset Online"
   ]
  },
  {
   "cell_type": "code",
   "execution_count": null,
   "id": "3f01c140",
   "metadata": {},
   "outputs": [],
   "source": [
    "file_path = \"anime.csv\"  # Replace with exact CSV filename inside dataset if needed\n",
    "\n",
    "# Dataset load karte hain directly KaggleHub se\n",
    "df = kagglehub.load_dataset(\n",
    "    KaggleDatasetAdapter.PANDAS,\n",
    "    \"wasiqaliyasir/anime-dataset\",\n",
    "    file_path,\n",
    ")"
   ]
  },
  {
   "cell_type": "code",
   "execution_count": null,
   "id": "76109fb6",
   "metadata": {},
   "outputs": [],
   "source": [
    "# check first 5 records.\n",
    "print(\"\\033[95mFirst 5 records:\\033[0m\")  # Purple color\n",
    "print(df.head())"
   ]
  },
  {
   "cell_type": "markdown",
   "id": "b1076f89",
   "metadata": {},
   "source": [
    "#### ✅ Step 3: Dataset Overview"
   ]
  },
  {
   "cell_type": "code",
   "execution_count": null,
   "id": "c19ee7f0",
   "metadata": {},
   "outputs": [],
   "source": [
    "\n",
    "print(\"\\033[94mDataset Shape:\\033[0m\", df.shape)  # Blue color\n",
    "print(\"\\033[94mMissing Values:\\033[0m\")\n",
    "print(df.isnull().sum())"
   ]
  },
  {
   "cell_type": "markdown",
   "id": "379a59af",
   "metadata": {},
   "source": [
    "#### ✅ Step 4: Basic EDA & Plots\n"
   ]
  },
  {
   "cell_type": "code",
   "execution_count": null,
   "id": "46e3ba9d",
   "metadata": {},
   "outputs": [],
   "source": [
    "# ✅ Step 4: Basic EDA & Plots\n",
    "# Dataset ka summary stats\n",
    "df.describe()"
   ]
  },
  {
   "cell_type": "code",
   "execution_count": null,
   "id": "1457781c",
   "metadata": {},
   "outputs": [],
   "source": [
    "# Anime type distribution plot\n",
    "plt.figure(figsize=(8,5))\n",
    "sns.countplot(y='type', data=df, palette='cool')\n",
    "plt.title('Anime Type Distribution')\n",
    "plt.show()"
   ]
  },
  {
   "cell_type": "code",
   "execution_count": null,
   "id": "47e3e679",
   "metadata": {},
   "outputs": [],
   "source": [
    "# 📊 Type of Anime Count\n",
    "plt.figure(figsize=(8,5))\n",
    "sns.countplot(y='type', data=df, order=df['type'].value_counts().index, palette='pastel')\n",
    "plt.title('Number of Anime by Type')\n",
    "plt.xlabel('Count')\n",
    "plt.ylabel('Type')\n",
    "plt.show()\n"
   ]
  },
  {
   "cell_type": "markdown",
   "id": "f9e1cc25",
   "metadata": {},
   "source": [
    "#### ✅ Step 5: 🎨Data visualization"
   ]
  },
  {
   "cell_type": "code",
   "execution_count": null,
   "id": "84e96357",
   "metadata": {},
   "outputs": [],
   "source": [
    "# ⭐ Rating Distribution\n",
    "plt.figure(figsize=(10,6))\n",
    "sns.histplot(df['rating'], bins=20, kde=True, color='skyblue')\n",
    "plt.title('Rating Distribution of Anime')\n",
    "plt.xlabel('Rating')\n",
    "plt.ylabel('Count')\n",
    "plt.show()"
   ]
  },
  {
   "cell_type": "code",
   "execution_count": null,
   "id": "85f90ffe",
   "metadata": {},
   "outputs": [],
   "source": [
    "\n",
    "# Episodes vs rating scatter plot\n",
    "plt.figure(figsize=(7,5))\n",
    "sns.scatterplot(x='episodes', y='rating', data=df, color='blue', alpha=0.6)\n",
    "plt.title('Episodes rating')\n",
    "plt.show()\n"
   ]
  },
  {
   "cell_type": "code",
   "execution_count": null,
   "id": "feb66288",
   "metadata": {},
   "outputs": [],
   "source": [
    "# 📈 Scatter Plot: Members vs Rating\n",
    "plt.figure(figsize=(10,6))\n",
    "sns.scatterplot(data=df, x='members', y='rating', hue='type', alpha=0.7)\n",
    "plt.title('Members vs Rating by Type')\n",
    "plt.xlabel('Number of Members')\n",
    "plt.ylabel('Rating')\n",
    "plt.show()"
   ]
  },
  {
   "cell_type": "code",
   "execution_count": null,
   "id": "3d80988d",
   "metadata": {},
   "outputs": [],
   "source": [
    "# ⭐ Rating Distribution\n",
    "plt.figure(figsize=(10,6))\n",
    "sns.histplot(df['rating'], bins=20, kde=True, color='orange')\n",
    "plt.title('Rating Distribution of Anime')\n",
    "plt.xlabel('Rating')\n",
    "plt.ylabel('Count')\n",
    "plt.show()"
   ]
  },
  {
   "cell_type": "markdown",
   "id": "11ef8401",
   "metadata": {},
   "source": [
    "#### ✅ Step 6: Top 10 Anime by Score"
   ]
  },
  {
   "cell_type": "code",
   "execution_count": null,
   "id": "95c22dd1",
   "metadata": {},
   "outputs": [],
   "source": [
    "top10 = df.sort_values(by='rating', ascending=False).head(10)\n",
    "print(\"\\033[95mTop 10 Anime by Score:\\033[0m\")\n",
    "print(top10[['name', 'rating']])\n"
   ]
  },
  {
   "cell_type": "code",
   "execution_count": null,
   "id": "715fcf2c",
   "metadata": {},
   "outputs": [],
   "source": [
    "# 🌟 Top Rated Anime (with more than 1000 members)\n",
    "top_rated = df[df['members']>1000].sort_values('rating', ascending=False).head(10)\n",
    "plt.figure(figsize=(12,6))\n",
    "sns.barplot(x='rating', y='name', data=top_rated, palette='viridis')\n",
    "plt.title('Top 10 Highest Rated Anime (with >1000 members)')\n",
    "plt.xlabel('Rating')\n",
    "plt.ylabel('Anime Name')\n",
    "plt.show()"
   ]
  },
  {
   "cell_type": "markdown",
   "id": "d2fb5fe9",
   "metadata": {},
   "source": [
    "\n",
    "#### ✅ Step 7: Conclusion"
   ]
  },
  {
   "cell_type": "code",
   "execution_count": null,
   "id": "c8192e77",
   "metadata": {},
   "outputs": [],
   "source": [
    "print(\"\\033[94mEDA Complete - Dataset insights generated!\\033[0m\")"
   ]
  },
  {
   "cell_type": "markdown",
   "id": "707192af",
   "metadata": {},
   "source": [
    "\n",
    "#### ✅ Step 8: Simple Machine Learning Model\n"
   ]
  },
  {
   "cell_type": "code",
   "execution_count": null,
   "id": "79a8a77c",
   "metadata": {},
   "outputs": [],
   "source": [
    "df = df.dropna(subset=['Episodes', 'Score'])\n",
    "X = df[['Episodes']]\n",
    "y = df['Score']\n"
   ]
  },
  {
   "cell_type": "code",
   "execution_count": null,
   "id": "ba4c6dd1",
   "metadata": {},
   "outputs": [],
   "source": [
    "from sklearn.model_selection import train_test_split\n",
    "from sklearn.linear_model import LinearRegression\n",
    "from sklearn.metrics import mean_squared_error"
   ]
  },
  {
   "cell_type": "code",
   "execution_count": null,
   "id": "6ada0eb7",
   "metadata": {},
   "outputs": [],
   "source": [
    "X_train, X_test, y_train, y_test = train_test_split(X, y, test_size=0.2, random_state=42)\n",
    "model = LinearRegression()\n",
    "model.fit(X_train, y_train)\n",
    "predictions = model.predict(X_test)\n",
    "rmse = mean_squared_error(y_test, predictions, squared=False)\n",
    "print(\"\\033[94mRMSE of Linear Regression:\\033[0m\", rmse)\n"
   ]
  },
  {
   "cell_type": "markdown",
   "id": "1992333a",
   "metadata": {},
   "source": [
    "\n",
    "#### ✅ Step 9: Data Visualization - Predicted vs Actual\n"
   ]
  },
  {
   "cell_type": "code",
   "execution_count": null,
   "id": "4b51be6b",
   "metadata": {},
   "outputs": [],
   "source": [
    "plt.figure(figsize=(7,5))\n",
    "plt.scatter(y_test, predictions, color='blue')\n",
    "plt.xlabel('Actual Score')\n",
    "plt.ylabel('Predicted Score')\n",
    "plt.title('Actual vs Predicted Score')\n",
    "plt.show()\n"
   ]
  },
  {
   "cell_type": "markdown",
   "id": "4f4ce12d",
   "metadata": {},
   "source": [
    "### _____________________________________________________________\n",
    "\n",
    "#### 📊 Anime Dataset - Exploratory Data Analysis\n",
    "#### **Dataset:** Kaggle Anime Dataset by wasiqaliyasir\n",
    "\n",
    "#### ✅ Notebook Goals:\n",
    "#### - Load dataset online (KaggleHub)\n",
    "#### - Perform EDA (summary, missing values)\n",
    "#### - Visualize distributions & relationships\n",
    "#### - Share top insights & summary\n",
    "\n",
    "#### 📌 Key Features:\n",
    "#### - English mix explanation\n",
    "#### - Purple & blue color print statements for attractive output\n",
    "#### - Detailed code with comments\n",
    "#### - Size under 1MB\n",
    "\n",
    "#### ✅ End of Notebook - Thank you for exploring!\n"
   ]
  },
  {
   "cell_type": "markdown",
   "id": "fbed628f",
   "metadata": {},
   "source": [
    "<p style=\"text-align:center;\"><span style=\"font-size:80px;\"><span style=\"color:navy\"><span style=\"font-family:cursive;\"><span style=\"font-weight:1000\">Bye 👋</span></span></span></span></p>"
   ]
  }
 ],
 "metadata": {
  "kernelspec": {
   "display_name": "base",
   "language": "python",
   "name": "python3"
  },
  "language_info": {
   "codemirror_mode": {
    "name": "ipython",
    "version": 3
   },
   "file_extension": ".py",
   "mimetype": "text/x-python",
   "name": "python",
   "nbconvert_exporter": "python",
   "pygments_lexer": "ipython3",
   "version": "3.12.7"
  }
 },
 "nbformat": 4,
 "nbformat_minor": 5
}
