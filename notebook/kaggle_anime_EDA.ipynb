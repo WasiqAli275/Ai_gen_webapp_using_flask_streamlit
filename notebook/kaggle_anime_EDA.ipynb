{
 "cells": [
  {
   "cell_type": "markdown",
   "id": "b5330fd0",
   "metadata": {},
   "source": [
    "# 📌 Anime Dataset EDA Notebook\n",
    "# ________________________________________________________________"
   ]
  },
  {
   "cell_type": "markdown",
   "id": "dabfb83d",
   "metadata": {},
   "source": [
    "### About me \n",
    "Name : Wasiq Ali\n",
    "\n",
    "Github link click [here](https://www.github.com/wasiqali275)\n",
    "\n",
    "facbook link click [here](https://www.facebook.com/profile.php?id=100092751110055)"
   ]
  },
  {
   "cell_type": "markdown",
   "id": "f34e0e57",
   "metadata": {},
   "source": [
    "### 👋 Assalam-o-Alaikum! In this notebook we can use **python==3.12** version. "
   ]
  },
  {
   "cell_type": "markdown",
   "id": "7a275698",
   "metadata": {},
   "source": [
    "##### In this notebook we can discuss about Kaggle  anime dataset \n",
    "##### And Dataset link is [here](https://www.kaggle.com/datasets/wasiqaliyasir/anime-dataset)"
   ]
  },
  {
   "cell_type": "markdown",
   "id": "08a619a4",
   "metadata": {},
   "source": [
    "###### In this notebook we will learn **Data visualization, EDA and analysis** using python"
   ]
  },
  {
   "cell_type": "markdown",
   "id": "bccb2242",
   "metadata": {},
   "source": [
    "#### ✅ Step 1: Install & Import Libraries\n",
    "#### Load the dataset directly online using kagglehub"
   ]
  },
  {
   "cell_type": "code",
   "execution_count": 1,
   "id": "e3469138",
   "metadata": {},
   "outputs": [
    {
     "name": "stderr",
     "output_type": "stream",
     "text": [
      "d:\\Users\\Lib\\site-packages\\tqdm\\auto.py:21: TqdmWarning: IProgress not found. Please update jupyter and ipywidgets. See https://ipywidgets.readthedocs.io/en/stable/user_install.html\n",
      "  from .autonotebook import tqdm as notebook_tqdm\n"
     ]
    }
   ],
   "source": [
    "# pip install kagglehub[pandas-datasets]\n",
    "import kagglehub\n",
    "from kagglehub import KaggleDatasetAdapter\n",
    "import pandas as pd\n",
    "import matplotlib.pyplot as plt\n",
    "import seaborn as sns\n"
   ]
  },
  {
   "cell_type": "markdown",
   "id": "4b02375a",
   "metadata": {},
   "source": [
    "### ✅ Step 2: Load Dataset Online"
   ]
  },
  {
   "cell_type": "code",
   "execution_count": 3,
   "id": "3f01c140",
   "metadata": {},
   "outputs": [
    {
     "name": "stderr",
     "output_type": "stream",
     "text": [
      "C:\\Users\\zs\\AppData\\Local\\Temp\\ipykernel_1936\\3336642376.py:4: DeprecationWarning: load_dataset is deprecated and will be removed in a future version.\n",
      "  df = kagglehub.load_dataset(\n"
     ]
    },
    {
     "name": "stdout",
     "output_type": "stream",
     "text": [
      "Downloading from https://www.kaggle.com/api/v1/datasets/download/wasiqaliyasir/anime-dataset?dataset_version_number=1&file_name=anime.csv...\n"
     ]
    },
    {
     "name": "stderr",
     "output_type": "stream",
     "text": [
      "100%|██████████| 915k/915k [00:01<00:00, 636kB/s]\n"
     ]
    }
   ],
   "source": [
    "file_path = \"anime.csv\"  # Replace with exact CSV filename inside dataset if needed\n",
    "\n",
    "# Dataset load karte hain directly KaggleHub se\n",
    "df = kagglehub.load_dataset(\n",
    "    KaggleDatasetAdapter.PANDAS,\n",
    "    \"wasiqaliyasir/anime-dataset\",\n",
    "    file_path,\n",
    ")"
   ]
  },
  {
   "cell_type": "code",
   "execution_count": 5,
   "id": "76109fb6",
   "metadata": {},
   "outputs": [
    {
     "name": "stdout",
     "output_type": "stream",
     "text": [
      "\u001b[95mFirst 5 records:\u001b[0m\n",
      "   anime_id                              name  \\\n",
      "0     32281                    Kimi no Na wa.   \n",
      "1      5114  Fullmetal Alchemist: Brotherhood   \n",
      "2     28977                          Gintama°   \n",
      "3      9253                       Steins;Gate   \n",
      "4      9969                     Gintama&#039;   \n",
      "\n",
      "                                               genre   type episodes  rating  \\\n",
      "0               Drama, Romance, School, Supernatural  Movie        1    9.37   \n",
      "1  Action, Adventure, Drama, Fantasy, Magic, Mili...     TV       64    9.26   \n",
      "2  Action, Comedy, Historical, Parody, Samurai, S...     TV       51    9.25   \n",
      "3                                   Sci-Fi, Thriller     TV       24    9.17   \n",
      "4  Action, Comedy, Historical, Parody, Samurai, S...     TV       51    9.16   \n",
      "\n",
      "   members  \n",
      "0   200630  \n",
      "1   793665  \n",
      "2   114262  \n",
      "3   673572  \n",
      "4   151266  \n"
     ]
    }
   ],
   "source": [
    "# check first 5 records.\n",
    "print(\"\\033[95mFirst 5 records:\\033[0m\")  # Purple color\n",
    "print(df.head())"
   ]
  }
 ],
 "metadata": {
  "kernelspec": {
   "display_name": "base",
   "language": "python",
   "name": "python3"
  },
  "language_info": {
   "codemirror_mode": {
    "name": "ipython",
    "version": 3
   },
   "file_extension": ".py",
   "mimetype": "text/x-python",
   "name": "python",
   "nbconvert_exporter": "python",
   "pygments_lexer": "ipython3",
   "version": "3.12.7"
  }
 },
 "nbformat": 4,
 "nbformat_minor": 5
}
